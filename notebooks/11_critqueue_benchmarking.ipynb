{
 "cells": [
  {
   "cell_type": "markdown",
   "id": "862037f9",
   "metadata": {},
   "source": [
    "# Imports "
   ]
  },
  {
   "cell_type": "code",
   "execution_count": 1,
   "id": "9f3b432e",
   "metadata": {},
   "outputs": [],
   "source": [
    "from aptos_sdk.account import Account\n",
    "from aptos_sdk.bcs import Serializer\n",
    "from aptos_sdk.client import RestClient, FaucetClient\n",
    "from aptos_sdk.transactions import (\n",
    "    EntryFunction,\n",
    "    ModuleId,\n",
    "    TransactionArgument as TxArg,\n",
    "    TransactionPayload as TxPayload,\n",
    ")\n",
    "from aptos_sdk.type_tag import StructTag\n",
    "from IPython.display import clear_output\n",
    "from typing import Any, Dict\n",
    "\n",
    "import pandas as pd"
   ]
  },
  {
   "cell_type": "markdown",
   "id": "b241e06d",
   "metadata": {},
   "source": [
    "# Account via keyfile"
   ]
  },
  {
   "cell_type": "code",
   "execution_count": 2,
   "id": "2e7ac4a9",
   "metadata": {},
   "outputs": [
    {
     "data": {
      "text/plain": [
       "'0x2f4418ed678986669b22ca40c664aa04707cacc5a326b47f0b4d540dff05e4c1'"
      ]
     },
     "execution_count": 2,
     "metadata": {},
     "output_type": "execute_result"
    }
   ],
   "source": [
    "# Relative path to hot keyfile for testing only.\n",
    "# File should contain hex key only.\n",
    "key_file = \"../../.secrets/2f4418ed678986669b22\\\n",
    "ca40c664aa04707cacc5a326b47f0b4d540dff05e4c1.key\"\n",
    "with open(key_file) as f:  # Open file.\n",
    "    key = f.readline().rstrip()  # Get key.\n",
    "# Get account from key.\n",
    "account = Account.load_key(key)\n",
    "# Print account address in hex.\n",
    "account.address().hex()"
   ]
  },
  {
   "cell_type": "markdown",
   "id": "6f308bb9",
   "metadata": {},
   "source": [
    "# REST Client "
   ]
  },
  {
   "cell_type": "code",
   "execution_count": 3,
   "id": "4942f58b",
   "metadata": {},
   "outputs": [
    {
     "data": {
      "text/plain": [
       "'120907500'"
      ]
     },
     "execution_count": 3,
     "metadata": {},
     "output_type": "execute_result"
    }
   ],
   "source": [
    "# Declare base URL for testnet REST API.\n",
    "client_url = \"https://fullnode.testnet.aptoslabs.com/v1\"\n",
    "# Declare base URL for faucet.\n",
    "faucet_url = \"https://faucet.testnet.aptoslabs.com\"\n",
    "# Initialize client.\n",
    "client = RestClient(client_url)\n",
    "# Initialize faucet.\n",
    "faucet = FaucetClient(faucet_url, client)\n",
    "# Get account balance\n",
    "client.account_balance(account.address())"
   ]
  },
  {
   "cell_type": "code",
   "execution_count": 4,
   "id": "5c69b803",
   "metadata": {},
   "outputs": [],
   "source": [
    "# Fund from the faucet\n",
    "faucet.fund_account(account.address().hex(), 1000000000)"
   ]
  },
  {
   "cell_type": "code",
   "execution_count": 5,
   "id": "2e6997f9",
   "metadata": {},
   "outputs": [
    {
     "data": {
      "text/plain": [
       "'220907500'"
      ]
     },
     "execution_count": 5,
     "metadata": {},
     "output_type": "execute_result"
    }
   ],
   "source": [
    "# Get account balance\n",
    "client.account_balance(account.address())"
   ]
  },
  {
   "cell_type": "code",
   "execution_count": 6,
   "id": "dc98cf84",
   "metadata": {},
   "outputs": [],
   "source": [
    "def execute(function: str, args: list) -> str:\n",
    "    \"\"\"Call entry function with args, returning tx hash\n",
    "\n",
    "    args should be of format\n",
    "    [[4, Serializer.u64], [2, Serializer.u128]]\n",
    "    \"\"\"\n",
    "    # Construct entry function payload.\n",
    "    payload = EntryFunction.natural(\n",
    "        str(module_id), function, [], [TxArg(a[0], a[1]) for a in args]\n",
    "    )\n",
    "    # Generate a signed transaction from the payload.\n",
    "    signed_tx = client.create_single_signer_bcs_transaction(\n",
    "        account, TxPayload(payload)\n",
    "    )\n",
    "    # Submit signed transaction, returning transaction ID.\n",
    "    return client.submit_bcs_transaction(signed_tx)"
   ]
  },
  {
   "cell_type": "code",
   "execution_count": 7,
   "id": "d8c8ab8d",
   "metadata": {},
   "outputs": [],
   "source": [
    "def get_tx_json(hash: str) -> Dict[str, Any]:\n",
    "    \"\"\"Query a transaction by hash, returning JSON data\"\"\"\n",
    "    while True:\n",
    "        response = client.client.get(\n",
    "            f\"{client.base_url}/transactions/by_hash/{hash}\"\n",
    "        )\n",
    "        # Assert successful response.\n",
    "        assert response.status_code == 200, hash\n",
    "        # If transaction has cleared as user tx:\n",
    "        if response.json()[\"type\"] == \"user_transaction\":\n",
    "            # Return its JSON data\n",
    "            return response.json()\n",
    "        # Otherwise try again"
   ]
  },
  {
   "cell_type": "code",
   "execution_count": 8,
   "id": "0e010577",
   "metadata": {},
   "outputs": [],
   "source": [
    "def print_tx_url(version: str):\n",
    "    \"\"\"Print URL to transaction view on explorer\"\"\"\n",
    "    explorer = \"https://aptos-explorer.netlify.app\"\n",
    "    print(f\"{explorer}/txn/{version}\")"
   ]
  },
  {
   "cell_type": "code",
   "execution_count": 9,
   "id": "07475aa0",
   "metadata": {},
   "outputs": [],
   "source": [
    "def tx_diagnostics(tx_json: Dict[str, Any]):\n",
    "    \"\"\"Print gas used or link to failed tx\"\"\"\n",
    "    if tx_json[\"success\"] == True:\n",
    "        print(f'Gas used: {tx_json[\"gas_used\"]}')\n",
    "    else:\n",
    "        print_tx_url(tx_json[\"version\"])"
   ]
  },
  {
   "cell_type": "markdown",
   "id": "8af529f7",
   "metadata": {},
   "source": [
    "# Crit-queue interface"
   ]
  },
  {
   "cell_type": "code",
   "execution_count": 10,
   "id": "25999ed1",
   "metadata": {},
   "outputs": [],
   "source": [
    "def get_access_key(insertion_key: int, insertion_count: int) -> int:\n",
    "    \"\"\"Return access key for insertion key/count\"\"\"\n",
    "    return insertion_key << 64 | insertion_count"
   ]
  },
  {
   "cell_type": "code",
   "execution_count": 11,
   "id": "ad4a02f6",
   "metadata": {},
   "outputs": [
    {
     "data": {
      "text/plain": [
       "{'type': '0x2f4418ed678986669b22ca40c664aa04707cacc5a326b47f0b4d540dff05e4c1::critqueue_benchmark::CritQueueStore',\n",
       " 'data': {'map': {'inner': {'handle': '0xa157b831945a15c1eff5bb55df13f269ace1d40c7221ad6b3c9fcf679ba48762'},\n",
       "   'length': '53'}}}"
      ]
     },
     "execution_count": 11,
     "metadata": {},
     "output_type": "execute_result"
    }
   ],
   "source": [
    "# Declare module name.\n",
    "module = \"critqueue_benchmark\"\n",
    "# Get module ID.\n",
    "module_id = ModuleId(account.address(), module)\n",
    "# Get CritQueueStore struct tag.\n",
    "struct_tag = StructTag(account.address(), module, \"CritQueueStore\", [])\n",
    "# Check that account has one.\n",
    "client.account_resource(account.address(), struct_tag.__str__())"
   ]
  },
  {
   "cell_type": "code",
   "execution_count": 12,
   "id": "d2380ff4",
   "metadata": {},
   "outputs": [],
   "source": [
    "def insert(insertion_key: int, insertion_value: int) -> str:\n",
    "    \"\"\"Insert given key-value insertion pair,\n",
    "    returning tx ID\"\"\"\n",
    "    return execute(\n",
    "        \"insert\",\n",
    "        [[insertion_key, Serializer.u64], [insertion_value, Serializer.u64]],\n",
    "    )"
   ]
  },
  {
   "cell_type": "code",
   "execution_count": 13,
   "id": "4fc1f525",
   "metadata": {},
   "outputs": [],
   "source": [
    "def remove(\n",
    "    insertion_key: int, insertion_count: int, insertion_value_expected: int\n",
    ") -> str:\n",
    "    \"\"\"Remove corresponding key-value insertion pair,\n",
    "    returning tx ID\"\"\"\n",
    "    access_key = get_access_key(insertion_key, insertion_count)\n",
    "    return execute(\n",
    "        \"remove\",\n",
    "        [\n",
    "            [access_key, Serializer.u128],\n",
    "            [insertion_value_expected, Serializer.u64],\n",
    "        ],\n",
    "    )"
   ]
  },
  {
   "cell_type": "code",
   "execution_count": 14,
   "id": "adef24c6",
   "metadata": {},
   "outputs": [],
   "source": [
    "def dequeue(insertion_value_expected: int) -> str:\n",
    "    \"\"\"Dequeue, checking insertion value and\n",
    "    returning tx ID\"\"\"\n",
    "    return execute(\"dequeue\", [[insertion_value_expected, Serializer.u64]])"
   ]
  },
  {
   "cell_type": "code",
   "execution_count": 15,
   "id": "03105609",
   "metadata": {},
   "outputs": [],
   "source": [
    "def dequeue_all() -> str:\n",
    "    \"\"\"Dequeue all, returning tx ID\"\"\"\n",
    "    return execute(\"dequeue_all\", [])"
   ]
  },
  {
   "cell_type": "code",
   "execution_count": 16,
   "id": "fa94dfb6",
   "metadata": {},
   "outputs": [],
   "source": [
    "def reset() -> str:\n",
    "    \"\"\"Reset crit-queue, returning tx ID\"\"\"\n",
    "    return execute(\"reset\", [])"
   ]
  },
  {
   "cell_type": "code",
   "execution_count": 17,
   "id": "0f57ce4b",
   "metadata": {},
   "outputs": [
    {
     "name": "stdout",
     "output_type": "stream",
     "text": [
      "Gas used: 428\n"
     ]
    }
   ],
   "source": [
    "# Reset.\n",
    "tx_diagnostics(get_tx_json(reset()))"
   ]
  },
  {
   "cell_type": "code",
   "execution_count": 18,
   "id": "6ab0539b",
   "metadata": {},
   "outputs": [
    {
     "name": "stdout",
     "output_type": "stream",
     "text": [
      "Gas used: 659\n"
     ]
    }
   ],
   "source": [
    "# Insert key-value pair.\n",
    "tx_diagnostics(get_tx_json(insert(10, 1)))"
   ]
  },
  {
   "cell_type": "code",
   "execution_count": 19,
   "id": "996d950d",
   "metadata": {},
   "outputs": [
    {
     "name": "stdout",
     "output_type": "stream",
     "text": [
      "Gas used: 288\n"
     ]
    }
   ],
   "source": [
    "# Try removing key-value pair.\n",
    "tx_diagnostics(get_tx_json(remove(10, 0, 1)))"
   ]
  },
  {
   "cell_type": "code",
   "execution_count": 20,
   "id": "582e269d",
   "metadata": {},
   "outputs": [
    {
     "name": "stdout",
     "output_type": "stream",
     "text": [
      "Gas used: 493\n",
      "Gas used: 501\n",
      "Gas used: 502\n",
      "Gas used: 502\n",
      "Gas used: 329\n"
     ]
    }
   ],
   "source": [
    "# Insert several key-value pairs.\n",
    "for i in range(4):\n",
    "    # Wait until successful.\n",
    "    tx_diagnostics(get_tx_json(insert(10, 1)))\n",
    "# Dequeue.\n",
    "tx_diagnostics(get_tx_json(dequeue(1)))"
   ]
  },
  {
   "cell_type": "code",
   "execution_count": 21,
   "id": "5d980823",
   "metadata": {},
   "outputs": [
    {
     "name": "stdout",
     "output_type": "stream",
     "text": [
      "Gas used: 358\n"
     ]
    }
   ],
   "source": [
    "# Dequeue all.\n",
    "tx_diagnostics(get_tx_json(dequeue_all()))"
   ]
  },
  {
   "cell_type": "code",
   "execution_count": 22,
   "id": "5dda1ae0",
   "metadata": {},
   "outputs": [
    {
     "name": "stdout",
     "output_type": "stream",
     "text": [
      "Gas used: 428\n"
     ]
    }
   ],
   "source": [
    "# Reset.\n",
    "tx_diagnostics(get_tx_json(reset()))"
   ]
  },
  {
   "cell_type": "markdown",
   "id": "2ffd46c2",
   "metadata": {},
   "source": [
    "# Simple scenarios"
   ]
  },
  {
   "cell_type": "markdown",
   "id": "461a4e00",
   "metadata": {},
   "source": [
    "Inserting at the root allocates a leaf and a sub-queue node:"
   ]
  },
  {
   "cell_type": "code",
   "execution_count": 23,
   "id": "a4c46d49",
   "metadata": {},
   "outputs": [
    {
     "name": "stdout",
     "output_type": "stream",
     "text": [
      "Gas used: 659\n"
     ]
    }
   ],
   "source": [
    "tx_diagnostics(get_tx_json(insert(insertion_key=0, insertion_value=1)))"
   ]
  },
  {
   "cell_type": "markdown",
   "id": "26ff9f93",
   "metadata": {},
   "source": [
    "Inserting behind in the same leaf only has to allocate a sub-queue node:"
   ]
  },
  {
   "cell_type": "code",
   "execution_count": 24,
   "id": "1bb5529f",
   "metadata": {},
   "outputs": [
    {
     "name": "stdout",
     "output_type": "stream",
     "text": [
      "Gas used: 501\n"
     ]
    }
   ],
   "source": [
    "tx_diagnostics(get_tx_json(insert(insertion_key=0, insertion_value=1)))"
   ]
  },
  {
   "cell_type": "markdown",
   "id": "af775915",
   "metadata": {},
   "source": [
    "Inserting a new leaf now has to allocate a leaf, inner node, and sub-queue node:"
   ]
  },
  {
   "cell_type": "code",
   "execution_count": 25,
   "id": "a1c89f92",
   "metadata": {},
   "outputs": [
    {
     "name": "stdout",
     "output_type": "stream",
     "text": [
      "Gas used: 947\n"
     ]
    }
   ],
   "source": [
    "tx_diagnostics(get_tx_json(insert(insertion_key=1, insertion_value=1)))"
   ]
  },
  {
   "cell_type": "markdown",
   "id": "43963cd6",
   "metadata": {},
   "source": [
    "Removing the value deallocates the sub-queue node, frees the leaf, and deallocates an inner node:"
   ]
  },
  {
   "cell_type": "code",
   "execution_count": 26,
   "id": "6fcd732e",
   "metadata": {},
   "outputs": [
    {
     "name": "stdout",
     "output_type": "stream",
     "text": [
      "Gas used: 358\n"
     ]
    }
   ],
   "source": [
    "tx_diagnostics(\n",
    "    get_tx_json(\n",
    "        remove(insertion_key=1, insertion_count=0, insertion_value_expected=1)\n",
    "    )\n",
    ")"
   ]
  },
  {
   "cell_type": "markdown",
   "id": "d01d4c27",
   "metadata": {},
   "source": [
    "Inserting again has to re-insert the free leaf to the tree (but not reallocate it), allocate a new inner node, and allocate a new sub-queue node:"
   ]
  },
  {
   "cell_type": "code",
   "execution_count": 27,
   "id": "bca49cb1",
   "metadata": {},
   "outputs": [
    {
     "name": "stdout",
     "output_type": "stream",
     "text": [
      "Gas used: 779\n"
     ]
    }
   ],
   "source": [
    "tx_diagnostics(get_tx_json(insert(insertion_key=1, insertion_value=1)))"
   ]
  },
  {
   "cell_type": "markdown",
   "id": "3e093c31",
   "metadata": {},
   "source": [
    "# Unbalanced insertion, removal"
   ]
  },
  {
   "cell_type": "code",
   "execution_count": 28,
   "id": "8aa203f9",
   "metadata": {},
   "outputs": [
    {
     "name": "stdout",
     "output_type": "stream",
     "text": [
      "Gas used: 428\n"
     ]
    }
   ],
   "source": [
    "# Reset.\n",
    "tx_diagnostics(get_tx_json(reset()))"
   ]
  },
  {
   "cell_type": "markdown",
   "id": "7cfd5b1c",
   "metadata": {},
   "source": [
    "Insert keys in the following prder, creating an unbalanced tree of maximum height:\n",
    "1. `0b0`\n",
    "2. `0b10`\n",
    "3. `0b100`\n",
    "\n",
    "...\n",
    "\n",
    "64. `0b10000.`\n",
    "\n",
    "Here, each successive insertion has to walk more nodes during a search, producing the following tree:\n",
    "\n",
    ">                   63rd\n",
    ">                  /    \\\n",
    ">               62nd    100000000000000.....\n",
    ">             ...\n",
    ">            2nd\n",
    ">           /   \\\n",
    ">         1st   100 \n",
    ">        /   \\\n",
    ">      0th   10\n",
    ">     /   \\\n",
    ">     0   1\n",
    "\n",
    "For ease of illustration, inner keys are depicted relative to bit 64."
   ]
  },
  {
   "cell_type": "code",
   "execution_count": 29,
   "id": "e1bbb688",
   "metadata": {},
   "outputs": [],
   "source": [
    "# Reset crit-queue store, waiting until tx clears.\n",
    "tx_diagnostics(get_tx_json(reset()))\n",
    "gas = {}  # Init map from shift to gas used.\n",
    "for bit in range(64):  # Loop over all bits\n",
    "    shifted = 0  # Assume no bitshift.\n",
    "    if bit != 0:  # If should shift.\n",
    "        shifted = 1 << bit  # Shift amount.\n",
    "    # Store JSON for key-value insertion pair tx.\n",
    "    tx_json = get_tx_json(\n",
    "        insert(insertion_key=shifted, insertion_value=shifted)\n",
    "    )\n",
    "    # Assert successful transaction.\n",
    "    assert tx_json[\"success\"] == True\n",
    "    # Log gas used for given shift.\n",
    "    gas[bit] = int(tx_json[\"gas_used\"])\n",
    "    clear_output(wait=True)  # Clear terminal output.\n",
    "    # Print gas used.\n",
    "    print(f\"Post-insertion height: {bit}, gas: {gas[bit]}\")\n",
    "clear_output()  # Clear terminal output."
   ]
  },
  {
   "cell_type": "code",
   "execution_count": 30,
   "id": "c9cca2df",
   "metadata": {},
   "outputs": [],
   "source": [
    "# Get gas DataFrame.\n",
    "gas_df = pd.DataFrame.from_dict(gas.items()).rename(\n",
    "    columns={0: \"Post-insertion height\", 1: \"Gas used\"}\n",
    ")"
   ]
  },
  {
   "cell_type": "markdown",
   "id": "0849ac2d",
   "metadata": {},
   "source": [
    "Here, gas costs scale linearly with post-insertion height, where for each insertion:\n",
    "1. A new inner node must be allocated,\n",
    "2. A new leaf must be allocated, and\n",
    "3. A new sub-queue node must be allocated, after\n",
    "4. Searching every node along the height of the tree, then traversing back up,\n",
    "\n",
    "except in the case of the first insertion at the root, where a new inner node does not have to be allocated and there is no height to search:"
   ]
  },
  {
   "cell_type": "code",
   "execution_count": 31,
   "id": "14cdb69a",
   "metadata": {
    "scrolled": true
   },
   "outputs": [
    {
     "data": {
      "image/png": "[encoded data removed]",
      "text/plain": [
       "<Figure size 432x288 with 1 Axes>"
      ]
     },
     "metadata": {
      "needs_background": "light"
     },
     "output_type": "display_data"
    }
   ],
   "source": [
    "ax = gas_df.plot(x=\"Post-insertion height\", y=\"Gas used\", grid=True, style=\"o\")\n",
    "ax.set_ylim(ymin=0);"
   ]
  },
  {
   "cell_type": "markdown",
   "id": "18274126",
   "metadata": {},
   "source": [
    "Removals are `O(1)`, and thus unaffected by height, but may vary with changes to the root or the head:"
   ]
  },
  {
   "cell_type": "code",
   "execution_count": 32,
   "id": "56947e07",
   "metadata": {},
   "outputs": [
    {
     "name": "stdout",
     "output_type": "stream",
     "text": [
      "Changes root:\n",
      "Gas used: 358\n",
      "Changes head:\n",
      "Gas used: 441\n",
      "Changes neither:\n",
      "Gas used: 367\n",
      "Gas used: 367\n",
      "Gas used: 367\n"
     ]
    }
   ],
   "source": [
    "print(\"Changes root:\")\n",
    "tx_diagnostics(get_tx_json(remove(1 << 63, 0, 1 << 63)))\n",
    "print(\"Changes head:\")\n",
    "tx_diagnostics(get_tx_json(remove(0, 0, 0)))\n",
    "print(\"Changes neither:\")\n",
    "tx_diagnostics(get_tx_json(remove(1 << 31, 0, 1 << 31)))\n",
    "tx_diagnostics(get_tx_json(remove(1 << 15, 0, 1 << 15)))\n",
    "tx_diagnostics(get_tx_json(remove(1 << 47, 0, 1 << 47)))"
   ]
  },
  {
   "cell_type": "markdown",
   "id": "dd56f79e",
   "metadata": {},
   "source": [
    "Dequeuing all nodes is costly:"
   ]
  },
  {
   "cell_type": "code",
   "execution_count": 33,
   "id": "f3922797",
   "metadata": {},
   "outputs": [
    {
     "name": "stdout",
     "output_type": "stream",
     "text": [
      "Gas used: 8681\n"
     ]
    }
   ],
   "source": [
    "tx_diagnostics(get_tx_json(dequeue_all()))"
   ]
  },
  {
   "cell_type": "markdown",
   "id": "b6ff18af",
   "metadata": {},
   "source": [
    "# Balanced insertion"
   ]
  },
  {
   "cell_type": "markdown",
   "id": "6245baec",
   "metadata": {},
   "source": [
    "For a balanced tree, instead insert the values:\n",
    "* `0b0000000`\n",
    "* `0b0000001`\n",
    "* `0b0000010`\n",
    "* `0b0000011`\n",
    "\n",
    "...\n",
    "\n",
    "* `0b1111111`"
   ]
  },
  {
   "cell_type": "code",
   "execution_count": 37,
   "id": "0b0be40a",
   "metadata": {},
   "outputs": [],
   "source": [
    "# Reset crit-queue store, waiting until tx clears.\n",
    "tx_diagnostics(get_tx_json(reset()))\n",
    "gas = {}  # Init map from shift to gas used.\n",
    "for i in range(2**7):  # Loop over all 7-bit integers.\n",
    "    # Store JSON for key-value insertion pair tx.\n",
    "    tx_json = get_tx_json(insert(insertion_key=i, insertion_value=i))\n",
    "    # Assert successful transaction.\n",
    "    assert tx_json[\"success\"] == True\n",
    "    # Log gas used for given insertion.\n",
    "    gas[i] = int(tx_json[\"gas_used\"])\n",
    "    clear_output(wait=True)  # Clear terminal output.\n",
    "    # Print gas used.\n",
    "    print(f\"Pre-insertion leaf count: {i}, gas: {gas[i]}\")\n",
    "clear_output()  # Clear terminal output."
   ]
  },
  {
   "cell_type": "code",
   "execution_count": 38,
   "id": "e6624012",
   "metadata": {},
   "outputs": [],
   "source": [
    "# Get gas DataFrame.\n",
    "gas_df = pd.DataFrame.from_dict(gas.items()).rename(\n",
    "    columns={0: \"Pre-insertion leaf count\", 1: \"Gas used\"}\n",
    ")"
   ]
  },
  {
   "cell_type": "markdown",
   "id": "850f6581",
   "metadata": {},
   "source": [
    "Here, after the first insertion at the root, gas costs (theoretically) scale logarithmically with the number of leaves in the tree, but are nearly constant in practice:"
   ]
  },
  {
   "cell_type": "code",
   "execution_count": 39,
   "id": "5fbf3f5f",
   "metadata": {},
   "outputs": [
    {
     "data": {
      "image/png": "[encoded data removed]",
      "text/plain": [
       "<Figure size 432x288 with 1 Axes>"
      ]
     },
     "metadata": {
      "needs_background": "light"
     },
     "output_type": "display_data"
    }
   ],
   "source": [
    "ax = gas_df.plot(\n",
    "    x=\"Pre-insertion leaf count\", y=\"Gas used\", grid=True, style=\"o\"\n",
    ")\n",
    "ax.set_ylim(ymin=0);"
   ]
  }
 ],
 "metadata": {
  "kernelspec": {
   "display_name": "Python 3 (ipykernel)",
   "language": "python",
   "name": "python3"
  },
  "language_info": {
   "codemirror_mode": {
    "name": "ipython",
    "version": 3
   },
   "file_extension": ".py",
   "mimetype": "text/x-python",
   "name": "python",
   "nbconvert_exporter": "python",
   "pygments_lexer": "ipython3",
   "version": "3.9.12"
  }
 },
 "nbformat": 4,
 "nbformat_minor": 5
}
