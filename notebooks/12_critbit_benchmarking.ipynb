{
 "cells": [
  {
   "cell_type": "markdown",
   "id": "65bf78fb",
   "metadata": {},
   "source": [
    "# Background "
   ]
  },
  {
   "cell_type": "markdown",
   "id": "74eaafd9",
   "metadata": {},
   "source": [
    "`critbit.move` structures are as follows (comments removed for brevity):\n",
    "\n",
    "```rust\n",
    "\n",
    "struct CritBitTree<V> has store {\n",
    "    root: u64,\n",
    "    inner_nodes: vector<InnerNode>,\n",
    "    outer_nodes: vector<OuterNode<V>>\n",
    "}\n",
    "\n",
    "struct InnerNode has store {\n",
    "    critical_bit: u8,\n",
    "    parent_index: u64,\n",
    "    left_child_index: u64,\n",
    "    right_child_index: u64\n",
    "}\n",
    "\n",
    "struct OuterNode<V> has store {\n",
    "    key: u128,\n",
    "    value: V,\n",
    "    parent_index: u64,\n",
    "}\n",
    "```\n",
    "\n",
    "`critqueue.benchmark` uses an `address` for `V`, yielding the following byte sizes:"
   ]
  },
  {
   "cell_type": "code",
   "execution_count": null,
   "id": "335e0070",
   "metadata": {},
   "outputs": [],
   "source": [
    "inner_node_size_bytes = 1 + 8 + 8 + 8\n",
    "inner_node_size_bytes"
   ]
  },
  {
   "cell_type": "code",
   "execution_count": null,
   "id": "cbccd177",
   "metadata": {},
   "outputs": [],
   "source": [
    "outer_node_size_bytes = 16 + 32 + 8  # 32-byte address.\n",
    "outer_node_size_bytes"
   ]
  },
  {
   "cell_type": "markdown",
   "id": "9e97b1b9",
   "metadata": {},
   "source": [
    "With the exception of the first outer node insertion at the root, each insertion to the tree adds both an inner node and an outer node. Hence in the general case of `n` outer nodes there are `n - 1` outer nodes, such that the size of the tree is approximated by `n * (s_i + s_o)`, or the number of inserted keys times the combined size of an inner and outer node:"
   ]
  },
  {
   "cell_type": "code",
   "execution_count": null,
   "id": "ead1846b",
   "metadata": {},
   "outputs": [],
   "source": [
    "bytes_per_key = inner_node_size_bytes + outer_node_size_bytes\n",
    "bytes_per_key"
   ]
  },
  {
   "cell_type": "markdown",
   "id": "8f365aef",
   "metadata": {},
   "source": [
    "Per the [storage gas optimization principles](https://aptos.dev/concepts/base-gas/#storage-gas-1), per-byte writes cost 0.02 octals and per-item writes cost 40 octals:"
   ]
  },
  {
   "cell_type": "code",
   "execution_count": null,
   "id": "f52092df",
   "metadata": {},
   "outputs": [],
   "source": [
    "gas_per_written_byte = 0.02\n",
    "gas_per_written_byte"
   ]
  },
  {
   "cell_type": "code",
   "execution_count": null,
   "id": "86457eac",
   "metadata": {},
   "outputs": [],
   "source": [
    "gas_per_written_item = 40\n",
    "gas_per_written_item"
   ]
  },
  {
   "cell_type": "markdown",
   "id": "a13be6a4",
   "metadata": {},
   "source": [
    "And for reads:"
   ]
  },
  {
   "cell_type": "code",
   "execution_count": null,
   "id": "3e6e0663",
   "metadata": {},
   "outputs": [],
   "source": [
    "gas_per_read_byte = 0.004\n",
    "gas_per_read_byte"
   ]
  },
  {
   "cell_type": "code",
   "execution_count": null,
   "id": "3a8c1534",
   "metadata": {},
   "outputs": [],
   "source": [
    "gas_per_read_item = 8\n",
    "gas_per_read_item"
   ]
  },
  {
   "cell_type": "markdown",
   "id": "7a551cc7",
   "metadata": {},
   "source": [
    "As defined in [`instruction.rs`](https://github.com/aptos-labs/aptos-core/blob/main/aptos-move/aptos-gas/src/transaction.rs), the minimum transaction gas is 1,500,000 units, or 150 octals with a scale factor of 10,000:"
   ]
  },
  {
   "cell_type": "code",
   "execution_count": null,
   "id": "288b77dc",
   "metadata": {},
   "outputs": [],
   "source": [
    "min_gas = 1_500_000 / 10_000\n",
    "min_gas"
   ]
  },
  {
   "cell_type": "markdown",
   "id": "bfaa928e",
   "metadata": {},
   "source": [
    "With all data contained in a single item in global storage, read and write operation costs can thus be approximated by the number of keys in the tree:"
   ]
  },
  {
   "cell_type": "code",
   "execution_count": null,
   "id": "62cd1f8a",
   "metadata": {},
   "outputs": [],
   "source": [
    "def expected_read_cost(n_keys) -> int:\n",
    "    # Borrow `TreeStore`, borrow `CritBitTree`,\n",
    "    # then read the bytes within.\n",
    "    return int(\n",
    "        min_gas\n",
    "        + +gas_per_read_item\n",
    "        + gas_per_read_item\n",
    "        + n_keys * bytes_per_key * gas_per_read_byte\n",
    "    )"
   ]
  },
  {
   "cell_type": "code",
   "execution_count": null,
   "id": "88e04842",
   "metadata": {},
   "outputs": [],
   "source": [
    "expected_read_cost(1)"
   ]
  },
  {
   "cell_type": "code",
   "execution_count": null,
   "id": "6ca77afc",
   "metadata": {},
   "outputs": [],
   "source": [
    "expected_read_cost(10)"
   ]
  },
  {
   "cell_type": "code",
   "execution_count": null,
   "id": "ec9d912b",
   "metadata": {},
   "outputs": [],
   "source": [
    "expected_read_cost(100)"
   ]
  },
  {
   "cell_type": "code",
   "execution_count": null,
   "id": "f97ee4dc",
   "metadata": {},
   "outputs": [],
   "source": [
    "expected_read_cost(1000)"
   ]
  },
  {
   "cell_type": "code",
   "execution_count": null,
   "id": "aa1c7fcf",
   "metadata": {},
   "outputs": [],
   "source": [
    "def expected_write_cost(n_keys) -> int:\n",
    "    # Borrow `TreeStore`, borrow `CritBitTree`,\n",
    "    # then read the bytes within.\n",
    "    return int(\n",
    "        min_gas\n",
    "        + +gas_per_read_item\n",
    "        + gas_per_written_item\n",
    "        + n_keys * bytes_per_key * gas_per_written_byte\n",
    "    )"
   ]
  },
  {
   "cell_type": "code",
   "execution_count": null,
   "id": "d5567fa3",
   "metadata": {},
   "outputs": [],
   "source": [
    "expected_write_cost(1)"
   ]
  },
  {
   "cell_type": "code",
   "execution_count": null,
   "id": "e4f06eb5",
   "metadata": {},
   "outputs": [],
   "source": [
    "expected_write_cost(10)"
   ]
  },
  {
   "cell_type": "code",
   "execution_count": null,
   "id": "09b359ed",
   "metadata": {},
   "outputs": [],
   "source": [
    "expected_write_cost(100)"
   ]
  },
  {
   "cell_type": "code",
   "execution_count": null,
   "id": "1c64b189",
   "metadata": {},
   "outputs": [],
   "source": [
    "expected_write_cost(1000)"
   ]
  },
  {
   "cell_type": "markdown",
   "id": "708b33b8",
   "metadata": {},
   "source": [
    "# Imports"
   ]
  },
  {
   "cell_type": "code",
   "execution_count": null,
   "id": "0f68f544",
   "metadata": {},
   "outputs": [],
   "source": [
    "import pandas as pd\n",
    "import time\n",
    "\n",
    "from aptos_sdk.account import Account\n",
    "from aptos_sdk.bcs import Serializer\n",
    "from aptos_sdk.client import RestClient, FaucetClient\n",
    "from aptos_sdk.transactions import (\n",
    "    EntryFunction,\n",
    "    ModuleId,\n",
    "    TransactionArgument as TxArg,\n",
    "    TransactionPayload as TxPayload,\n",
    ")\n",
    "from aptos_sdk.type_tag import StructTag\n",
    "from IPython.display import clear_output\n",
    "from typing import Any, Dict\n",
    "from pathlib import Path"
   ]
  },
  {
   "cell_type": "markdown",
   "id": "e202af07",
   "metadata": {},
   "source": [
    "# Account via keyfile"
   ]
  },
  {
   "cell_type": "code",
   "execution_count": null,
   "id": "3f9664b8",
   "metadata": {},
   "outputs": [],
   "source": [
    "# Relative path to hot keyfile for testing only.\n",
    "# File should contain hex key only.`\n",
    "key_file = sorted(Path(\"../../.secrets\").glob(\"*.key\"))[0]\n",
    "with open(key_file) as f:  # Open file.\n",
    "    key = f.readline().rstrip()  # Get key.\n",
    "# Get account from key.\n",
    "account = Account.load_key(key)\n",
    "# Print account address in hex.\n",
    "account.address().hex()"
   ]
  },
  {
   "cell_type": "markdown",
   "id": "04715534",
   "metadata": {},
   "source": [
    "# REST Client "
   ]
  },
  {
   "cell_type": "code",
   "execution_count": null,
   "id": "574ac466",
   "metadata": {},
   "outputs": [],
   "source": [
    "# Declare base URL for devnet REST API.\n",
    "client_url = \"https://fullnode.devnet.aptoslabs.com/v1\"\n",
    "# Declare base URL for faucet.\n",
    "faucet_url = \"https://faucet.devnet.aptoslabs.com\"\n",
    "# Initialize client.\n",
    "client = RestClient(client_url)\n",
    "# Initialize faucet.\n",
    "faucet = FaucetClient(faucet_url, client)\n",
    "# Get account balance\n",
    "client.account_balance(account.address())"
   ]
  },
  {
   "cell_type": "code",
   "execution_count": null,
   "id": "0d5b4a5c",
   "metadata": {},
   "outputs": [],
   "source": [
    "# Fund from the faucet\n",
    "faucet.fund_account(account.address().hex(), 1000000000)"
   ]
  },
  {
   "cell_type": "code",
   "execution_count": null,
   "id": "4770ee6a",
   "metadata": {},
   "outputs": [],
   "source": [
    "# Get account balance\n",
    "client.account_balance(account.address())"
   ]
  },
  {
   "cell_type": "code",
   "execution_count": null,
   "id": "c967b318",
   "metadata": {},
   "outputs": [],
   "source": [
    "def execute(function: str, args: list) -> str:\n",
    "    \"\"\"Call entry function with args, returning tx hash\n",
    "\n",
    "    args should be of format\n",
    "    [[4, Serializer.u64], [2, Serializer.u128]]\n",
    "    \"\"\"\n",
    "    # Construct entry function payload.\n",
    "    payload = EntryFunction.natural(\n",
    "        str(module_id), function, [], [TxArg(a[0], a[1]) for a in args]\n",
    "    )\n",
    "    # Generate a signed transaction from the payload.\n",
    "    signed_tx = client.create_single_signer_bcs_transaction(\n",
    "        account, TxPayload(payload)\n",
    "    )\n",
    "    # Submit signed transaction, returning transaction ID.\n",
    "    return client.submit_bcs_transaction(signed_tx)"
   ]
  },
  {
   "cell_type": "code",
   "execution_count": null,
   "id": "744fa02b",
   "metadata": {},
   "outputs": [],
   "source": [
    "def get_tx_json(hash: str) -> Dict[str, Any]:\n",
    "    \"\"\"Query a transaction by hash, returning JSON data\"\"\"\n",
    "    while True:\n",
    "        response = client.client.get(\n",
    "            f\"{client.base_url}/transactions/by_hash/{hash}\"\n",
    "        )\n",
    "        # Assert successful response.\n",
    "        assert response.status_code == 200, hash\n",
    "        # If transaction has cleared as user tx:\n",
    "        if response.json()[\"type\"] == \"user_transaction\":\n",
    "            # Return its JSON data.\n",
    "            return response.json()\n",
    "        # Otherwise try again, after waiting.\n",
    "        time.sleep(0.5)  # Else you might get rate-limited."
   ]
  },
  {
   "cell_type": "code",
   "execution_count": null,
   "id": "9ef1fe36",
   "metadata": {},
   "outputs": [],
   "source": [
    "def print_tx_url(version: str):\n",
    "    \"\"\"Print URL to transaction view on explorer\"\"\"\n",
    "    explorer = \"https://aptos-explorer.netlify.app\"\n",
    "    print(f\"{explorer}/txn/{version}\")"
   ]
  },
  {
   "cell_type": "code",
   "execution_count": null,
   "id": "79ff4c9f",
   "metadata": {},
   "outputs": [],
   "source": [
    "def tx_diagnostics(tx_json: Dict[str, Any]):\n",
    "    \"\"\"Print gas used or link to failed tx\"\"\"\n",
    "    if tx_json[\"success\"] == True:\n",
    "        print(f'Gas used: {tx_json[\"gas_used\"]}')\n",
    "    else:\n",
    "        print_tx_url(tx_json[\"version\"])"
   ]
  },
  {
   "cell_type": "markdown",
   "id": "410d58de",
   "metadata": {},
   "source": [
    "# Critbit interface"
   ]
  },
  {
   "cell_type": "code",
   "execution_count": null,
   "id": "e8662c31",
   "metadata": {},
   "outputs": [],
   "source": [
    "# Declare module name.\n",
    "module = \"critbit_benchmark\"\n",
    "# Get module ID.\n",
    "module_id = ModuleId(account.address(), module)\n",
    "# Get tree store struct tag.\n",
    "struct_tag = StructTag(account.address(), module, \"TreeStore\", [])\n",
    "# Check that account has one.\n",
    "client.account_resource(account.address(), struct_tag.__str__())"
   ]
  },
  {
   "cell_type": "code",
   "execution_count": null,
   "id": "ee033c28",
   "metadata": {},
   "outputs": [],
   "source": [
    "def insert(key: int) -> str:\n",
    "    \"\"\"Insert given key, returning tx ID\"\"\"\n",
    "    return execute(\n",
    "        \"insert\",\n",
    "        [\n",
    "            [key, Serializer.u128],\n",
    "        ],\n",
    "    )"
   ]
  },
  {
   "cell_type": "code",
   "execution_count": null,
   "id": "4b49ffb9",
   "metadata": {},
   "outputs": [],
   "source": [
    "def pop(key: int) -> str:\n",
    "    \"\"\"Pop given key, returning tx ID\"\"\"\n",
    "    return execute(\n",
    "        \"pop\",\n",
    "        [\n",
    "            [key, Serializer.u128],\n",
    "        ],\n",
    "    )"
   ]
  },
  {
   "cell_type": "code",
   "execution_count": null,
   "id": "6d0c3345",
   "metadata": {},
   "outputs": [],
   "source": [
    "def pop_twice(key_1: int, key_2: int) -> str:\n",
    "    \"\"\"Pop given keys, returning tx ID\"\"\"\n",
    "    return execute(\n",
    "        \"pop_twice\",\n",
    "        [\n",
    "            [key_1, Serializer.u128],\n",
    "            [key_2, Serializer.u128],\n",
    "        ],\n",
    "    )"
   ]
  },
  {
   "cell_type": "code",
   "execution_count": null,
   "id": "78f76cd2",
   "metadata": {},
   "outputs": [],
   "source": [
    "def borrow(key: int) -> str:\n",
    "    \"\"\"Pop given key, returning tx ID\"\"\"\n",
    "    return execute(\n",
    "        \"borrow\",\n",
    "        [\n",
    "            [key, Serializer.u128],\n",
    "        ],\n",
    "    )"
   ]
  },
  {
   "cell_type": "code",
   "execution_count": null,
   "id": "a39f66a4",
   "metadata": {},
   "outputs": [],
   "source": [
    "def clear() -> str:\n",
    "    \"\"\"Clear `CritBitTree`, returning tx ID\"\"\"\n",
    "    return execute(\"clear\", [])"
   ]
  },
  {
   "cell_type": "code",
   "execution_count": null,
   "id": "0174f8b6",
   "metadata": {},
   "outputs": [],
   "source": [
    "def reset() -> str:\n",
    "    \"\"\"Reset `TreeStore`, returning tx ID\"\"\"\n",
    "    return execute(\"reset\", [])"
   ]
  },
  {
   "cell_type": "code",
   "execution_count": null,
   "id": "504dc067",
   "metadata": {},
   "outputs": [],
   "source": [
    "# Reset.\n",
    "tx_diagnostics(get_tx_json(reset()))"
   ]
  },
  {
   "cell_type": "markdown",
   "id": "31d086c5",
   "metadata": {},
   "source": [
    "# Simple operations "
   ]
  },
  {
   "cell_type": "markdown",
   "id": "25fee775",
   "metadata": {},
   "source": [
    "Insert a single key:"
   ]
  },
  {
   "cell_type": "code",
   "execution_count": null,
   "id": "8dc8bc0d",
   "metadata": {},
   "outputs": [],
   "source": [
    "expected_write_cost(1)"
   ]
  },
  {
   "cell_type": "code",
   "execution_count": null,
   "id": "96f1dd96",
   "metadata": {},
   "outputs": [],
   "source": [
    "tx_diagnostics(get_tx_json(insert(1)))"
   ]
  },
  {
   "cell_type": "markdown",
   "id": "0f2f99be",
   "metadata": {},
   "source": [
    "Immutably borrow the single key:"
   ]
  },
  {
   "cell_type": "code",
   "execution_count": null,
   "id": "658489bc",
   "metadata": {},
   "outputs": [],
   "source": [
    "expected_read_cost(1)"
   ]
  },
  {
   "cell_type": "code",
   "execution_count": null,
   "id": "f447daed",
   "metadata": {},
   "outputs": [],
   "source": [
    "tx_diagnostics(get_tx_json(borrow(1)))"
   ]
  },
  {
   "cell_type": "markdown",
   "id": "bf95fcb6",
   "metadata": {},
   "source": [
    "Pop the key:"
   ]
  },
  {
   "cell_type": "code",
   "execution_count": null,
   "id": "da7ea46d",
   "metadata": {},
   "outputs": [],
   "source": [
    "expected_write_cost(1)"
   ]
  },
  {
   "cell_type": "code",
   "execution_count": null,
   "id": "ec716af9",
   "metadata": {},
   "outputs": [],
   "source": [
    "tx_diagnostics(get_tx_json(pop(1)))"
   ]
  },
  {
   "cell_type": "markdown",
   "id": "a6cb8a14",
   "metadata": {},
   "source": [
    "# Unbalanced insertion"
   ]
  },
  {
   "cell_type": "markdown",
   "id": "8d9dffc2",
   "metadata": {},
   "source": [
    "Insert keys in the following prder, creating an unbalanced tree of maximum height:\n",
    "1. `0b0`\n",
    "2. `0b10`\n",
    "3. `0b100`\n",
    "\n",
    "...\n",
    "\n",
    "128. `0b10000...`\n",
    "\n",
    "Here, each successive insertion has to walk more nodes during a search, producing the following tree:\n",
    "\n",
    ">                   127th\n",
    ">                  /     \\\n",
    ">               126th    100000000000000.....\n",
    ">             ...\n",
    ">            2nd\n",
    ">           /   \\\n",
    ">         1st   100 \n",
    ">        /   \\\n",
    ">      0th   10\n",
    ">     /   \\\n",
    ">     0   1\n",
    "\n",
    "In particular, by inserting smaller keys first, the insertion algorithm has to walk all the way down then all the way back up the tree."
   ]
  },
  {
   "cell_type": "code",
   "execution_count": null,
   "id": "172daf16",
   "metadata": {},
   "outputs": [],
   "source": [
    "# Reset tree store, waiting until tx clears.\n",
    "tx_diagnostics(get_tx_json(reset()))\n",
    "# Init log for bit number, expected\n",
    "# gas, and actual gas used.\n",
    "gas = []\n",
    "for i in range(128):  # Loop over all bits:\n",
    "    key = 0  # Assume no bitshift.\n",
    "    if i != 0:  # If should shift.\n",
    "        key = 1 << i  # Shift accordingly.\n",
    "    # Store JSON for key insertion tx.\n",
    "    tx_json = get_tx_json(insert(key))\n",
    "    # Assert successful tx.\n",
    "    assert tx_json[\"success\"] == True\n",
    "    # Log expected and actual gas for shift.\n",
    "    insert_gas = {\n",
    "        \"height\": i,\n",
    "        \"gas_expected\": expected_write_cost(i + 1),\n",
    "        \"gas_actual\": int(tx_json[\"gas_used\"]),\n",
    "    }\n",
    "    gas.append(insert_gas)  # Append to gas log.\n",
    "    # Print gas used.\n",
    "    print(\n",
    "        f'Post-insertion height: {insert_gas[\"height\"]}, '\n",
    "        f'expected gas: {insert_gas[\"gas_expected\"]}, '\n",
    "        f'actual gas: {insert_gas[\"gas_actual\"]}'\n",
    "    )\n",
    "    clear_output(wait=True)  # Clear terminal output."
   ]
  },
  {
   "cell_type": "markdown",
   "id": "e0e40dc1",
   "metadata": {},
   "source": [
    "Plot results, noting that expected gas costs do not account for instruction costs associated with traversal:"
   ]
  },
  {
   "cell_type": "code",
   "execution_count": null,
   "id": "35667432",
   "metadata": {},
   "outputs": [],
   "source": [
    "df = pd.DataFrame(gas)"
   ]
  },
  {
   "cell_type": "code",
   "execution_count": null,
   "id": "80d33548",
   "metadata": {},
   "outputs": [],
   "source": [
    "ax = df.plot(x=\"height\", y=\"gas_expected\")\n",
    "df.plot(x=\"height\", y=\"gas_actual\", grid=True, ax=ax)\n",
    "ax.set_ylim(ymin=0)"
   ]
  },
  {
   "cell_type": "markdown",
   "id": "f82b5ee7",
   "metadata": {},
   "source": [
    "Repeat, but insert at the bottom of the tree instead of the top:"
   ]
  },
  {
   "cell_type": "code",
   "execution_count": null,
   "id": "6ec51479",
   "metadata": {},
   "outputs": [],
   "source": [
    "# Reset tree store, waiting until tx clears.\n",
    "tx_diagnostics(get_tx_json(reset()))\n",
    "# Init log for bit number, expected\n",
    "# gas, and actual gas used.\n",
    "gas = []\n",
    "n_bits = 128  # Number of bits in a key.\n",
    "for i in range(n_bits):  # Loop over all bits:\n",
    "    key = 0  # Assume no bitshift.\n",
    "    if i != n_bits - 1:  # If should shift.\n",
    "        # Shift accordingly.\n",
    "        key = 1 << (n_bits - 1 - i)\n",
    "    # Store JSON for key insertion tx.\n",
    "    tx_json = get_tx_json(insert(key))\n",
    "    # Assert successful tx.\n",
    "    assert tx_json[\"success\"] == True\n",
    "    # Log expected and actual gas for shift.\n",
    "    insert_gas = {\n",
    "        \"height\": i,\n",
    "        \"gas_expected\": expected_write_cost(i + 1),\n",
    "        \"gas_actual\": int(tx_json[\"gas_used\"]),\n",
    "    }\n",
    "    gas.append(insert_gas)  # Append to gas log.\n",
    "    # Print gas used.\n",
    "    print(\n",
    "        f'Post-insertion height: {insert_gas[\"height\"]}, '\n",
    "        f'expected gas: {insert_gas[\"gas_expected\"]}, '\n",
    "        f'actual gas: {insert_gas[\"gas_actual\"]}'\n",
    "    )\n",
    "    clear_output(wait=True)  # Clear terminal output."
   ]
  },
  {
   "cell_type": "markdown",
   "id": "f075b5c5",
   "metadata": {},
   "source": [
    "Now traversal instructions are effectively cut in half, but estimates are still off:"
   ]
  },
  {
   "cell_type": "code",
   "execution_count": null,
   "id": "cfefb64b",
   "metadata": {},
   "outputs": [],
   "source": [
    "df2 = pd.DataFrame(gas)\n",
    "ax2 = df2.plot(x=\"height\", y=\"gas_expected\")\n",
    "df2.plot(x=\"height\", y=\"gas_actual\", grid=True, ax=ax2)\n",
    "ax2.set_ylim(ymin=0);"
   ]
  },
  {
   "cell_type": "markdown",
   "id": "3b9aa84a",
   "metadata": {},
   "source": [
    "# Balanced insertion, lookup, removal"
   ]
  },
  {
   "cell_type": "markdown",
   "id": "9bee9e4c",
   "metadata": {},
   "source": [
    "For a balanced tree, instead insert the values:\n",
    "* `0b00000000`\n",
    "* `0b00000001`\n",
    "* `0b00000010`\n",
    "* `0b00000011`\n",
    "\n",
    "...\n",
    "\n",
    "* `0b11111111`"
   ]
  },
  {
   "cell_type": "code",
   "execution_count": null,
   "id": "7b570ade",
   "metadata": {},
   "outputs": [],
   "source": [
    "# Reset tree store, waiting until tx clears.\n",
    "tx_diagnostics(get_tx_json(reset()))\n",
    "# Init log for bit number, expected\n",
    "# gas, and actual gas used.\n",
    "gas = []\n",
    "for i in range(128):  # Loop over all bits:\n",
    "    # Store JSON for key insertion tx.\n",
    "    tx_json = get_tx_json(insert(i))\n",
    "    # Assert successful tx.\n",
    "    assert tx_json[\"success\"] == True\n",
    "    # Log expected and actual gas for shift.\n",
    "    insert_gas = {\n",
    "        \"n_keys\": i,\n",
    "        \"gas_expected\": expected_write_cost(i + 1),\n",
    "        \"gas_actual\": int(tx_json[\"gas_used\"]),\n",
    "    }\n",
    "    gas.append(insert_gas)  # Append to gas log.\n",
    "    # Print gas used.\n",
    "    print(\n",
    "        f'Pre-insertion leaf count: {insert_gas[\"n_keys\"]}, '\n",
    "        f'expected gas: {insert_gas[\"gas_expected\"]}, '\n",
    "        f'actual gas: {insert_gas[\"gas_actual\"]}'\n",
    "    )\n",
    "    clear_output(wait=True)  # Clear terminal output."
   ]
  },
  {
   "cell_type": "markdown",
   "id": "4657321a",
   "metadata": {},
   "source": [
    "Actual gas values are now more closely approximated by pure storage gas costs:"
   ]
  },
  {
   "cell_type": "code",
   "execution_count": null,
   "id": "ab8eacce",
   "metadata": {},
   "outputs": [],
   "source": [
    "df3 = pd.DataFrame(gas)\n",
    "ax3 = df3.plot(x=\"n_keys\", y=\"gas_expected\")\n",
    "df3.plot(x=\"n_keys\", y=\"gas_actual\", grid=True, ax=ax3)\n",
    "ax3.set_ylim(ymin=0);"
   ]
  },
  {
   "cell_type": "markdown",
   "id": "0c001882",
   "metadata": {},
   "source": [
    "Here, each time a new bit gets set, e.g. after `0b00011111` has been inserted and then `0b00100000` gets inserted, insertion requires walking down the tree and then back up to the root to insert above.\n",
    "Hence the 7 spikes in gas costs at regular intervals."
   ]
  },
  {
   "cell_type": "markdown",
   "id": "5d5cfed3",
   "metadata": {},
   "source": [
    "Borrowing is a single read operation:"
   ]
  },
  {
   "cell_type": "code",
   "execution_count": null,
   "id": "d38264fc",
   "metadata": {},
   "outputs": [],
   "source": [
    "expected_read_cost(128)"
   ]
  },
  {
   "cell_type": "code",
   "execution_count": null,
   "id": "801270e2",
   "metadata": {},
   "outputs": [],
   "source": [
    "tx_diagnostics(get_tx_json(borrow(1)))"
   ]
  },
  {
   "cell_type": "markdown",
   "id": "447f6974",
   "metadata": {},
   "source": [
    "Removing is a single write operation:"
   ]
  },
  {
   "cell_type": "code",
   "execution_count": null,
   "id": "de7cee2b",
   "metadata": {},
   "outputs": [],
   "source": [
    "expected_write_cost(128)"
   ]
  },
  {
   "cell_type": "code",
   "execution_count": null,
   "id": "6b266929",
   "metadata": {},
   "outputs": [],
   "source": [
    "tx_diagnostics(get_tx_json(pop(1)))"
   ]
  },
  {
   "cell_type": "markdown",
   "id": "59998095",
   "metadata": {},
   "source": [
    "Clearing out all elements is also a single write operation, but requires extensive iteration:"
   ]
  },
  {
   "cell_type": "code",
   "execution_count": null,
   "id": "08ee46f5",
   "metadata": {},
   "outputs": [],
   "source": [
    "expected_write_cost(127)"
   ]
  },
  {
   "cell_type": "code",
   "execution_count": null,
   "id": "c57b0d57",
   "metadata": {},
   "outputs": [],
   "source": [
    "tx_diagnostics(get_tx_json(clear()))"
   ]
  },
  {
   "cell_type": "markdown",
   "id": "8796bcda",
   "metadata": {},
   "source": [
    "# Access multiplicity"
   ]
  },
  {
   "cell_type": "markdown",
   "id": "785d504a",
   "metadata": {},
   "source": [
    "First insert 3 keys:"
   ]
  },
  {
   "cell_type": "code",
   "execution_count": null,
   "id": "613f4e14",
   "metadata": {},
   "outputs": [],
   "source": [
    "# Reset tree store, waiting until tx clears.\n",
    "tx_diagnostics(get_tx_json(reset()))\n",
    "tx_diagnostics(get_tx_json(insert(1)))\n",
    "tx_diagnostics(get_tx_json(insert(2)))\n",
    "tx_diagnostics(get_tx_json(insert(3)))"
   ]
  },
  {
   "cell_type": "markdown",
   "id": "18cc9aad",
   "metadata": {},
   "source": [
    "Here, the `pop` function borrows the `TreeStore`, then operates on the `CritBitTree`, for a single per-item write:"
   ]
  },
  {
   "cell_type": "code",
   "execution_count": null,
   "id": "16adb371",
   "metadata": {},
   "outputs": [],
   "source": [
    "expected_write_cost(3)"
   ]
  },
  {
   "cell_type": "code",
   "execution_count": null,
   "id": "3a7a596e",
   "metadata": {},
   "outputs": [],
   "source": [
    "tx_diagnostics(get_tx_json(pop(3)))"
   ]
  },
  {
   "cell_type": "markdown",
   "id": "29230a64",
   "metadata": {},
   "source": [
    "The `pop_twice` function repeates the process twice in a single transaction, returning in between: it reads the `TreeStore`, then writes to the `CritBitTree`, then returns, then reads the `TreeStore`, then again writes to the `CritBitTree`.\n",
    "Yet because the same item in global memory is written to each time, the transaction is only assessed a single per-item write:"
   ]
  },
  {
   "cell_type": "code",
   "execution_count": null,
   "id": "47793ee4",
   "metadata": {},
   "outputs": [],
   "source": [
    "expected_write_cost(2)"
   ]
  },
  {
   "cell_type": "code",
   "execution_count": null,
   "id": "614e82bc",
   "metadata": {},
   "outputs": [],
   "source": [
    "tx_diagnostics(get_tx_json(pop_twice(1, 2)))"
   ]
  }
 ],
 "metadata": {
  "kernelspec": {
   "display_name": "Python 3 (ipykernel)",
   "language": "python",
   "name": "python3"
  },
  "language_info": {
   "codemirror_mode": {
    "name": "ipython",
    "version": 3
   },
   "file_extension": ".py",
   "mimetype": "text/x-python",
   "name": "python",
   "nbconvert_exporter": "python",
   "pygments_lexer": "ipython3",
   "version": "3.9.12"
  }
 },
 "nbformat": 4,
 "nbformat_minor": 5
}
