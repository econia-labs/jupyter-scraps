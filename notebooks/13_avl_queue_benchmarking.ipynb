{
 "cells": [
  {
   "cell_type": "markdown",
   "id": "d941e933",
   "metadata": {},
   "source": [
    "# Background"
   ]
  },
  {
   "cell_type": "markdown",
   "id": "e5d7d7d9",
   "metadata": {},
   "source": [
    "`avl_queue.move` structures are as follows (comments removed for brevity):\n",
    "\n",
    "```rust\n",
    "struct AVLqueue<V> has store {\n",
    "    bits: u128,\n",
    "    root_lsbs: u8,\n",
    "    tree_nodes: TableWithLength<u64, TreeNode>,\n",
    "    list_nodes: TableWithLength<u64, ListNode>,\n",
    "    values: Table<u64, Option<V>>\n",
    "}\n",
    "   \n",
    "struct TreeNode has store {\n",
    "    bits: u128\n",
    "}\n",
    "\n",
    "struct ListNode has store {\n",
    "    last_msbs: u8,\n",
    "    last_lsbs: u8,\n",
    "    next_msbs: u8,\n",
    "    next_lsbs: u8\n",
    "}\n",
    "```"
   ]
  },
  {
   "cell_type": "markdown",
   "id": "dcd800c7",
   "metadata": {},
   "source": [
    "Similarly, `avl_queue_benchmark.move` has:\n",
    "    \n",
    "```rust\n",
    "\n",
    "struct AVLqueueStore has key {\n",
    "    map: TableWithLength<u64, AVLqueue<Value>>\n",
    "}\n",
    "\n",
    "struct Value has store {\n",
    "    addr: address,\n",
    "    bits: u128\n",
    "}\n",
    "```"
   ]
  },
  {
   "cell_type": "markdown",
   "id": "47efb09b",
   "metadata": {},
   "source": [
    "Table handles are an `address` type, which is itself 32 bytes, and a `TableWithLength` has a `u64` encoded as well yielding the following byte sizes:"
   ]
  },
  {
   "cell_type": "code",
   "execution_count": 1,
   "id": "a234a7fd",
   "metadata": {},
   "outputs": [
    {
     "data": {
      "text/plain": [
       "40"
      ]
     },
     "execution_count": 1,
     "metadata": {},
     "output_type": "execute_result"
    }
   ],
   "source": [
    "table_with_length_bytes = 32 + int(64 / 8)\n",
    "table_with_length_bytes"
   ]
  },
  {
   "cell_type": "code",
   "execution_count": 2,
   "id": "24f41bc0",
   "metadata": {},
   "outputs": [
    {
     "data": {
      "text/plain": [
       "129"
      ]
     },
     "execution_count": 2,
     "metadata": {},
     "output_type": "execute_result"
    }
   ],
   "source": [
    "avlq_size_bytes = int(128 / 8) + 1 + 2 * table_with_length_bytes + 32\n",
    "avlq_size_bytes"
   ]
  },
  {
   "cell_type": "code",
   "execution_count": 3,
   "id": "39c33897",
   "metadata": {},
   "outputs": [
    {
     "data": {
      "text/plain": [
       "16"
      ]
     },
     "execution_count": 3,
     "metadata": {},
     "output_type": "execute_result"
    }
   ],
   "source": [
    "tree_node_size_bytes = int(128 / 8)\n",
    "tree_node_size_bytes"
   ]
  },
  {
   "cell_type": "code",
   "execution_count": 4,
   "id": "031e2dab",
   "metadata": {},
   "outputs": [
    {
     "data": {
      "text/plain": [
       "4"
      ]
     },
     "execution_count": 4,
     "metadata": {},
     "output_type": "execute_result"
    }
   ],
   "source": [
    "list_node_size_bytes = 4\n",
    "list_node_size_bytes"
   ]
  },
  {
   "cell_type": "code",
   "execution_count": 5,
   "id": "3d760029",
   "metadata": {},
   "outputs": [
    {
     "data": {
      "text/plain": [
       "40"
      ]
     },
     "execution_count": 5,
     "metadata": {},
     "output_type": "execute_result"
    }
   ],
   "source": [
    "avlq_store_size_bytes = table_with_length_bytes\n",
    "avlq_store_size_bytes"
   ]
  },
  {
   "cell_type": "code",
   "execution_count": 6,
   "id": "89046e07",
   "metadata": {},
   "outputs": [
    {
     "data": {
      "text/plain": [
       "48"
      ]
     },
     "execution_count": 6,
     "metadata": {},
     "output_type": "execute_result"
    }
   ],
   "source": [
    "value_size_bytes = 32 + int(128 / 8)\n",
    "value_size_bytes"
   ]
  },
  {
   "cell_type": "markdown",
   "id": "3ffd89e5",
   "metadata": {},
   "source": [
    "As of the time of this writing, [external storage gas costs](https://aptos.dev/concepts/base-gas/#optimization-principles) are as follows:"
   ]
  },
  {
   "cell_type": "code",
   "execution_count": 7,
   "id": "1466316c",
   "metadata": {},
   "outputs": [],
   "source": [
    "sf = 10_000  # Scaling factor.\n",
    "per_item_read = 300_000 / sf\n",
    "per_item_create = 5_000_000 / sf\n",
    "per_item_write = 300_000 / sf\n",
    "per_byte_read = 300 / sf\n",
    "per_byte_create = 5000 / sf\n",
    "per_byte_write = 5000 / sf"
   ]
  },
  {
   "cell_type": "markdown",
   "id": "62d9a0f2",
   "metadata": {},
   "source": [
    "As of the time of this writing, gas prices are at 100, there are 10^8 octas per APT, and 1 APT costs $8.8 USD:"
   ]
  },
  {
   "cell_type": "code",
   "execution_count": 8,
   "id": "47dea3a3",
   "metadata": {},
   "outputs": [],
   "source": [
    "octas_per_gas = 100\n",
    "octas_per_apt = 10**8\n",
    "usd_per_apt = 8.8\n",
    "usd_per_gas = octas_per_gas / octas_per_apt * usd_per_apt"
   ]
  },
  {
   "cell_type": "markdown",
   "id": "acc3627d",
   "metadata": {},
   "source": [
    "# Helper functions "
   ]
  },
  {
   "cell_type": "code",
   "execution_count": 9,
   "id": "8a763b21",
   "metadata": {},
   "outputs": [],
   "source": [
    "import pandas as pd\n",
    "import time\n",
    "\n",
    "from aptos_sdk.account import Account\n",
    "from aptos_sdk.bcs import Serializer\n",
    "from aptos_sdk.client import RestClient, FaucetClient\n",
    "from aptos_sdk.transactions import (\n",
    "    EntryFunction,\n",
    "    ModuleId,\n",
    "    TransactionArgument as TxArg,\n",
    "    TransactionPayload as TxPayload,\n",
    ")\n",
    "from aptos_sdk.type_tag import StructTag\n",
    "from IPython.display import clear_output\n",
    "from typing import Any, Dict\n",
    "from pathlib import Path"
   ]
  },
  {
   "cell_type": "markdown",
   "id": "f3500350",
   "metadata": {},
   "source": [
    "Getting account via keyfile:"
   ]
  },
  {
   "cell_type": "code",
   "execution_count": 10,
   "id": "22a4d813",
   "metadata": {},
   "outputs": [
    {
     "data": {
      "text/plain": [
       "'0x7c492623d3dd9fc19fa93a20a0e92c2c634a72a1e28392cb6509e22aeb7333c9'"
      ]
     },
     "execution_count": 10,
     "metadata": {},
     "output_type": "execute_result"
    }
   ],
   "source": [
    "# Relative path to hot keyfile for testing only.\n",
    "# File should contain hex key only.\n",
    "key_file = sorted(Path(\"../../.secrets\").glob(\"*.key\"))[0]\n",
    "with open(key_file) as f:  # Open file.\n",
    "    key = f.readline().rstrip()  # Get key.\n",
    "# Get account from key.\n",
    "account = Account.load_key(key)\n",
    "# Print account address in hex.\n",
    "account.address().hex()"
   ]
  },
  {
   "cell_type": "markdown",
   "id": "b3e1bfc4",
   "metadata": {},
   "source": [
    "REST client:"
   ]
  },
  {
   "cell_type": "code",
   "execution_count": 11,
   "id": "600ccabf",
   "metadata": {},
   "outputs": [
    {
     "data": {
      "text/plain": [
       "'170000100'"
      ]
     },
     "execution_count": 11,
     "metadata": {},
     "output_type": "execute_result"
    }
   ],
   "source": [
    "# Declare base URL for devnet REST API.\n",
    "client_url = \"https://fullnode.devnet.aptoslabs.com/v1\"\n",
    "# Declare base URL for faucet.\n",
    "faucet_url = \"https://faucet.devnet.aptoslabs.com\"\n",
    "# Explorer base URL.\n",
    "explorer = \"https://aptos-explorer.netlify.app\"\n",
    "# Explorer network query string.\n",
    "network_query_string = \"?network=devnet\"\n",
    "# Initialize client.\n",
    "client = RestClient(client_url)\n",
    "# Initialize faucet.\n",
    "faucet = FaucetClient(faucet_url, client)\n",
    "# Get account balance\n",
    "client.account_balance(account.address())"
   ]
  },
  {
   "cell_type": "code",
   "execution_count": 12,
   "id": "3b7bc5ad",
   "metadata": {},
   "outputs": [],
   "source": [
    "# Fund from the faucet\n",
    "faucet.fund_account(account.address().hex(), 1000000000)"
   ]
  },
  {
   "cell_type": "code",
   "execution_count": 13,
   "id": "41ae3002",
   "metadata": {},
   "outputs": [
    {
     "data": {
      "text/plain": [
       "'270000100'"
      ]
     },
     "execution_count": 13,
     "metadata": {},
     "output_type": "execute_result"
    }
   ],
   "source": [
    "# Get account balance\n",
    "client.account_balance(account.address())"
   ]
  },
  {
   "cell_type": "code",
   "execution_count": 14,
   "id": "cf2afcc8",
   "metadata": {},
   "outputs": [],
   "source": [
    "def execute(function: str, args: list) -> str:\n",
    "    \"\"\"Call entry function with args, returning tx hash\n",
    "\n",
    "    args should be of format\n",
    "    [[4, Serializer.u64], [2, Serializer.u128]]\n",
    "    \"\"\"\n",
    "    # Construct entry function payload.\n",
    "    payload = EntryFunction.natural(\n",
    "        str(module_id), function, [], [TxArg(a[0], a[1]) for a in args]\n",
    "    )\n",
    "    # Generate a signed transaction from the payload.\n",
    "    signed_tx = client.create_single_signer_bcs_transaction(\n",
    "        account, TxPayload(payload)\n",
    "    )\n",
    "    # Submit signed transaction, returning transaction ID.\n",
    "    return client.submit_bcs_transaction(signed_tx)"
   ]
  },
  {
   "cell_type": "code",
   "execution_count": 15,
   "id": "b664fecd",
   "metadata": {},
   "outputs": [],
   "source": [
    "def get_tx_json(hash: str) -> Dict[str, Any]:\n",
    "    \"\"\"Query a transaction by hash, returning JSON data\"\"\"\n",
    "    while True:\n",
    "        response = client.client.get(\n",
    "            f\"{client.base_url}/transactions/by_hash/{hash}\"\n",
    "        )\n",
    "        # Assert successful response.\n",
    "        assert response.status_code == 200, hash\n",
    "        # If transaction has cleared as user tx:\n",
    "        if response.json()[\"type\"] == \"user_transaction\":\n",
    "            # Return its JSON data.\n",
    "            return response.json()\n",
    "        # Otherwise try again, after waiting.\n",
    "        time.sleep(0.5)  # Else you might get rate-limited."
   ]
  },
  {
   "cell_type": "code",
   "execution_count": 16,
   "id": "0d92b03b",
   "metadata": {},
   "outputs": [],
   "source": [
    "def print_tx_url(version: str):\n",
    "    \"\"\"Print URL to transaction view on explorer\"\"\"\n",
    "    print(f\"{explorer}/txn/{version}{network_query_string}\")"
   ]
  },
  {
   "cell_type": "code",
   "execution_count": 17,
   "id": "2137b8d7",
   "metadata": {},
   "outputs": [],
   "source": [
    "def gas_diagnostics(tx_json: Dict[str, Any]):\n",
    "    \"\"\"Print gas used or link to failed tx\"\"\"\n",
    "    if tx_json[\"success\"] == True:\n",
    "        gas_used = int(tx_json[\"gas_used\"])\n",
    "        usd_cost = gas_used * usd_per_gas\n",
    "        print(f\"Gas: {gas_used}, USD: ${usd_cost:1.3}\")\n",
    "    else:\n",
    "        print_tx_url(tx_json[\"version\"])"
   ]
  },
  {
   "cell_type": "markdown",
   "id": "fed6c929",
   "metadata": {},
   "source": [
    "# AVL queue interface "
   ]
  },
  {
   "cell_type": "code",
   "execution_count": 18,
   "id": "9388ab8a",
   "metadata": {},
   "outputs": [
    {
     "data": {
      "text/plain": [
       "{'type': '0x7c492623d3dd9fc19fa93a20a0e92c2c634a72a1e28392cb6509e22aeb7333c9::avl_queue_benchmark::AVLqueueStore',\n",
       " 'data': {'map': {'inner': {'handle': '0x81999289bc2dffcf77f7dbd1c71c03391b4807a44d06dae9be90f69c1cb1ab1'},\n",
       "   'length': '6'}}}"
      ]
     },
     "execution_count": 18,
     "metadata": {},
     "output_type": "execute_result"
    }
   ],
   "source": [
    "# Declare module name.\n",
    "module = \"avl_queue_benchmark\"\n",
    "# Get module ID.\n",
    "module_id = ModuleId(account.address(), module)\n",
    "# Get AVL queue store struct tag.\n",
    "struct_tag = StructTag(account.address(), module, \"AVLqueueStore\", [])\n",
    "# Check that account has one.\n",
    "client.account_resource(account.address(), struct_tag.__str__())"
   ]
  },
  {
   "cell_type": "code",
   "execution_count": 19,
   "id": "7aa02dd0",
   "metadata": {},
   "outputs": [],
   "source": [
    "def insert(key: int, bits: int, access_key_expected: int) -> str:\n",
    "    \"\"\"Insert given key, returning tx ID\"\"\"\n",
    "    return execute(\n",
    "        \"insert\",\n",
    "        [\n",
    "            [key, Serializer.u64],\n",
    "            [bits, Serializer.u128],\n",
    "            [access_key_expected, Serializer.u64],\n",
    "        ],\n",
    "    )"
   ]
  },
  {
   "cell_type": "code",
   "execution_count": 20,
   "id": "24a84768",
   "metadata": {},
   "outputs": [],
   "source": [
    "def insert_evict_tail(\n",
    "    key: int,\n",
    "    bits: int,\n",
    "    access_key_expected: int,\n",
    "    evictee_access_key_expected: int,\n",
    "    evictee_value_bits_expected: int,\n",
    ") -> str:\n",
    "    \"\"\"Insert and evict tail, returning tx ID\"\"\"\n",
    "    return execute(\n",
    "        \"insert_evict_tail\",\n",
    "        [\n",
    "            [key, Serializer.u64],\n",
    "            [bits, Serializer.u128],\n",
    "            [access_key_expected, Serializer.u64],\n",
    "            [evictee_access_key_expected, Serializer.u64],\n",
    "            [evictee_value_bits_expected, Serializer.u128],\n",
    "        ],\n",
    "    )"
   ]
  },
  {
   "cell_type": "code",
   "execution_count": 21,
   "id": "c4fbb0cb",
   "metadata": {},
   "outputs": [],
   "source": [
    "def remove(access_key: int, bits_expected: int) -> str:\n",
    "    \"\"\"Insert given key, returning tx ID\"\"\"\n",
    "    return execute(\n",
    "        \"remove\",\n",
    "        [[access_key, Serializer.u64], [bits_expected, Serializer.u128]],\n",
    "    )"
   ]
  },
  {
   "cell_type": "code",
   "execution_count": 22,
   "id": "4e211889",
   "metadata": {},
   "outputs": [],
   "source": [
    "def clear() -> str:\n",
    "    \"\"\"Clear AVL queue, returning tx ID\"\"\"\n",
    "    return execute(\"clear\", [])"
   ]
  },
  {
   "cell_type": "code",
   "execution_count": 23,
   "id": "f69bfc9b",
   "metadata": {},
   "outputs": [],
   "source": [
    "def reset(\n",
    "    n_inactive_tree_nodes: int = 0, n_inactive_list_nodes: int = 0\n",
    ") -> str:\n",
    "    \"\"\"Reset AVL queue, returning tx ID\"\"\"\n",
    "    return execute(\n",
    "        \"reset\",\n",
    "        [\n",
    "            [n_inactive_tree_nodes, Serializer.u64],\n",
    "            [n_inactive_list_nodes, Serializer.u64],\n",
    "        ],\n",
    "    )"
   ]
  },
  {
   "cell_type": "code",
   "execution_count": 24,
   "id": "a1742712",
   "metadata": {},
   "outputs": [],
   "source": [
    "# Set at bits 0-31\n",
    "HI_32 = int(\"1\" * 32, 2)\n",
    "# Set at bits 0-13\n",
    "HI_14 = int(\"1\" * 14, 2)\n",
    "\n",
    "\n",
    "def get_access_key(\n",
    "    tree_node_id: int, list_node_id: int, insertion_key: int\n",
    ") -> int:\n",
    "    \"\"\"Return ascending access key\"\"\"\n",
    "    return (\n",
    "        ((tree_node_id & HI_14) << 47)\n",
    "        | ((list_node_id & HI_14) << 33)\n",
    "        | (1 << 32)\n",
    "        | (insertion_key & HI_32)\n",
    "    )"
   ]
  },
  {
   "cell_type": "markdown",
   "id": "eb8f8677",
   "metadata": {},
   "source": [
    "# Allocation costs"
   ]
  },
  {
   "cell_type": "markdown",
   "id": "27c9ecda",
   "metadata": {},
   "source": [
    "Nodes are allocated via `reset`, which has to create a new `AVLqueueStore` entry containing a\n",
    "new `AVLqueue` in the base case, without the additional cost of allocating nodes:"
   ]
  },
  {
   "cell_type": "code",
   "execution_count": 25,
   "id": "6769b063",
   "metadata": {},
   "outputs": [
    {
     "data": {
      "text/plain": [
       "614.5"
      ]
     },
     "execution_count": 25,
     "metadata": {},
     "output_type": "execute_result"
    }
   ],
   "source": [
    "# Theoretical cost to reset in the base case.\n",
    "reset_base_cost = (\n",
    "    per_item_write\n",
    "    + per_byte_write * avlq_store_size_bytes\n",
    "    + per_item_create\n",
    "    + per_byte_create * avlq_size_bytes\n",
    ")\n",
    "reset_base_cost"
   ]
  },
  {
   "cell_type": "code",
   "execution_count": 26,
   "id": "b88a48a3",
   "metadata": {},
   "outputs": [
    {
     "name": "stdout",
     "output_type": "stream",
     "text": [
      "Gas: 834, USD: $0.00734\n"
     ]
    }
   ],
   "source": [
    "# Actual cost to reset.\n",
    "gas_diagnostics(get_tx_json(reset()))"
   ]
  },
  {
   "cell_type": "markdown",
   "id": "f5117e38",
   "metadata": {},
   "source": [
    "Allocating nodes additionally charges extra costs:"
   ]
  },
  {
   "cell_type": "code",
   "execution_count": 27,
   "id": "0b35748d",
   "metadata": {},
   "outputs": [
    {
     "data": {
      "text/plain": [
       "508.0"
      ]
     },
     "execution_count": 27,
     "metadata": {},
     "output_type": "execute_result"
    }
   ],
   "source": [
    "tree_node_create_cost = per_item_create + tree_node_size_bytes * per_byte_create\n",
    "tree_node_create_cost"
   ]
  },
  {
   "cell_type": "code",
   "execution_count": 28,
   "id": "9e2742ca",
   "metadata": {},
   "outputs": [
    {
     "data": {
      "text/plain": [
       "502.0"
      ]
     },
     "execution_count": 28,
     "metadata": {},
     "output_type": "execute_result"
    }
   ],
   "source": [
    "list_node_create_cost = per_item_create + list_node_size_bytes * per_byte_create\n",
    "list_node_create_cost"
   ]
  },
  {
   "cell_type": "code",
   "execution_count": 29,
   "id": "8db68942",
   "metadata": {},
   "outputs": [
    {
     "data": {
      "text/plain": [
       "500.5"
      ]
     },
     "execution_count": 29,
     "metadata": {},
     "output_type": "execute_result"
    }
   ],
   "source": [
    "value_entry_create_cost = (\n",
    "    per_item_create + per_byte_create\n",
    ")  # Empty option takes one byte\n",
    "value_entry_create_cost"
   ]
  },
  {
   "cell_type": "code",
   "execution_count": 30,
   "id": "c0140496",
   "metadata": {},
   "outputs": [
    {
     "data": {
      "text/plain": [
       "55819.5"
      ]
     },
     "execution_count": 30,
     "metadata": {},
     "output_type": "execute_result"
    }
   ],
   "source": [
    "n_inactive_tree_nodes = 10\n",
    "n_inactive_list_nodes = 50\n",
    "allocate_cost = (\n",
    "    reset_base_cost\n",
    "    + n_inactive_tree_nodes * tree_node_create_cost\n",
    "    + n_inactive_list_nodes * (list_node_create_cost + value_entry_create_cost)\n",
    ")\n",
    "allocate_cost  # Expected allocation cost"
   ]
  },
  {
   "cell_type": "code",
   "execution_count": 31,
   "id": "9dd82f17",
   "metadata": {},
   "outputs": [
    {
     "name": "stdout",
     "output_type": "stream",
     "text": [
      "Gas: 61651, USD: $0.543\n"
     ]
    }
   ],
   "source": [
    "# Actual allocation cost\n",
    "gas_diagnostics(\n",
    "    get_tx_json(reset(n_inactive_tree_nodes, n_inactive_list_nodes))\n",
    ")"
   ]
  },
  {
   "cell_type": "markdown",
   "id": "0a8cbcec",
   "metadata": {},
   "source": [
    "# Re-using nodes"
   ]
  },
  {
   "cell_type": "markdown",
   "id": "0722baef",
   "metadata": {},
   "source": [
    "Insertion costs more when there are no inactive nodes on the stack:"
   ]
  },
  {
   "cell_type": "code",
   "execution_count": 60,
   "id": "42e30398",
   "metadata": {},
   "outputs": [
    {
     "name": "stdout",
     "output_type": "stream",
     "text": [
      "Gas: 834, USD: $0.00734\n"
     ]
    }
   ],
   "source": [
    "# Reset, without allocating nodes\n",
    "gas_diagnostics(get_tx_json(reset()))"
   ]
  },
  {
   "cell_type": "code",
   "execution_count": 33,
   "id": "9ecca1e5",
   "metadata": {},
   "outputs": [],
   "source": [
    "insertion_key = 123\n",
    "insertion_bits = 456\n",
    "access_key = get_access_key(1, 1, 123)"
   ]
  },
  {
   "cell_type": "code",
   "execution_count": 34,
   "id": "12421221",
   "metadata": {},
   "outputs": [
    {
     "data": {
      "text/plain": [
       "524.5"
      ]
     },
     "execution_count": 34,
     "metadata": {},
     "output_type": "execute_result"
    }
   ],
   "source": [
    "# Expected cost to insert value, filling option.\n",
    "value_create_insert_cost = per_item_create + per_byte_create * (\n",
    "    1 + value_size_bytes\n",
    ")\n",
    "value_create_insert_cost"
   ]
  },
  {
   "cell_type": "code",
   "execution_count": 35,
   "id": "0d995022",
   "metadata": {},
   "outputs": [
    {
     "data": {
      "text/plain": [
       "94.5"
      ]
     },
     "execution_count": 35,
     "metadata": {},
     "output_type": "execute_result"
    }
   ],
   "source": [
    "# Expected cost to write to AVL queue.\n",
    "avlq_write_cost = per_item_write + per_byte_write * avlq_size_bytes\n",
    "avlq_write_cost"
   ]
  },
  {
   "cell_type": "code",
   "execution_count": 36,
   "id": "77e20bd3",
   "metadata": {},
   "outputs": [
    {
     "data": {
      "text/plain": [
       "31.2"
      ]
     },
     "execution_count": 36,
     "metadata": {},
     "output_type": "execute_result"
    }
   ],
   "source": [
    "# Expected cost to read from AVL queue store.\n",
    "avlq_store_read_cost = per_item_read + per_byte_read * avlq_store_size_bytes\n",
    "avlq_store_read_cost"
   ]
  },
  {
   "cell_type": "code",
   "execution_count": 37,
   "id": "ed4be1b3",
   "metadata": {},
   "outputs": [
    {
     "data": {
      "text/plain": [
       "1660.2"
      ]
     },
     "execution_count": 37,
     "metadata": {},
     "output_type": "execute_result"
    }
   ],
   "source": [
    "# Expected insertion cost when must allocate.\n",
    "insert_and_allocate_cost = (\n",
    "    avlq_store_read_cost\n",
    "    + avlq_write_cost\n",
    "    + tree_node_create_cost\n",
    "    + list_node_create_cost\n",
    "    + value_create_insert_cost\n",
    ")\n",
    "insert_and_allocate_cost"
   ]
  },
  {
   "cell_type": "code",
   "execution_count": 38,
   "id": "cdc2131f",
   "metadata": {},
   "outputs": [
    {
     "name": "stdout",
     "output_type": "stream",
     "text": [
      "Gas: 2221, USD: $0.0195\n"
     ]
    }
   ],
   "source": [
    "# Insert, allocating 3 new items.\n",
    "json_allocate = get_tx_json(\n",
    "    insert(\n",
    "        key=insertion_key, bits=insertion_bits, access_key_expected=access_key\n",
    "    )\n",
    ")\n",
    "gas_diagnostics(json_allocate)"
   ]
  },
  {
   "cell_type": "code",
   "execution_count": 39,
   "id": "bb8d63ec",
   "metadata": {},
   "outputs": [
    {
     "name": "stdout",
     "output_type": "stream",
     "text": [
      "Gas: 1088, USD: $0.00957\n"
     ]
    }
   ],
   "source": [
    "# Remove, storing nodes on inactive stacks\n",
    "gas_diagnostics(\n",
    "    get_tx_json(remove(access_key=access_key, bits_expected=insertion_bits))\n",
    ")"
   ]
  },
  {
   "cell_type": "code",
   "execution_count": 40,
   "id": "49382389",
   "metadata": {},
   "outputs": [
    {
     "name": "stdout",
     "output_type": "stream",
     "text": [
      "Gas: 823, USD: $0.00724\n"
     ]
    }
   ],
   "source": [
    "# Insert again, not requiring allocation.\n",
    "json_no_allocate = get_tx_json(\n",
    "    insert(\n",
    "        key=insertion_key, bits=insertion_bits, access_key_expected=access_key\n",
    "    )\n",
    ")\n",
    "gas_diagnostics(json_no_allocate)"
   ]
  },
  {
   "cell_type": "markdown",
   "id": "e08d0e2a",
   "metadata": {},
   "source": [
    "Hence for inserting at the root, gas reduction due to re-used nodes is as follows:"
   ]
  },
  {
   "cell_type": "code",
   "execution_count": 41,
   "id": "e60fa76b",
   "metadata": {},
   "outputs": [
    {
     "name": "stdout",
     "output_type": "stream",
     "text": [
      "Gas reduction: 62.9%\n"
     ]
    }
   ],
   "source": [
    "gas_allocate = int(json_allocate[\"gas_used\"])\n",
    "gas_no_allocate = int(json_no_allocate[\"gas_used\"])\n",
    "gas_reduction = (gas_allocate - gas_no_allocate) / gas_allocate\n",
    "print(f\"Gas reduction: {gas_reduction * 100:4.1f}%\")"
   ]
  },
  {
   "cell_type": "markdown",
   "id": "7abea698",
   "metadata": {},
   "source": [
    "Allocation costs are less for inserting within a doubly linked list, not requiring a new tree node:"
   ]
  },
  {
   "cell_type": "code",
   "execution_count": 42,
   "id": "a4dafb3b",
   "metadata": {},
   "outputs": [],
   "source": [
    "# Insert second allocated list node.\n",
    "access_key = get_access_key(1, 2, 123)"
   ]
  },
  {
   "cell_type": "code",
   "execution_count": 43,
   "id": "0d780db7",
   "metadata": {},
   "outputs": [
    {
     "name": "stdout",
     "output_type": "stream",
     "text": [
      "Gas: 1861, USD: $0.0164\n"
     ]
    }
   ],
   "source": [
    "# Insert, allocating 2 new items.\n",
    "json_allocate_list_only = get_tx_json(\n",
    "    insert(\n",
    "        key=insertion_key, bits=insertion_bits, access_key_expected=access_key\n",
    "    )\n",
    ")\n",
    "gas_diagnostics(json_allocate_list_only)"
   ]
  },
  {
   "cell_type": "markdown",
   "id": "440cf5b9",
   "metadata": {},
   "source": [
    "# Insertions and removals"
   ]
  },
  {
   "cell_type": "markdown",
   "id": "6aafc089",
   "metadata": {},
   "source": [
    "Insert to create the following tree, with a list node at each tree node:\n",
    "\n",
    ">         3           \n",
    ">        / \\\n",
    ">       2   5\n",
    ">      /   / \\\n",
    ">     1   4   7\n",
    ">            / \\\n",
    ">           6   8"
   ]
  },
  {
   "cell_type": "code",
   "execution_count": 44,
   "id": "f14c558b",
   "metadata": {},
   "outputs": [
    {
     "name": "stdout",
     "output_type": "stream",
     "text": [
      "Gas: 14115, USD: $0.124\n"
     ]
    }
   ],
   "source": [
    "# Reset, allocating nodes\n",
    "gas_diagnostics(get_tx_json(reset(8, 8)))"
   ]
  },
  {
   "cell_type": "code",
   "execution_count": 45,
   "id": "2a57a82a",
   "metadata": {},
   "outputs": [
    {
     "name": "stdout",
     "output_type": "stream",
     "text": [
      "Gas: 823, USD: $0.00724\n",
      "Gas: 1124, USD: $0.00989\n",
      "Gas: 1118, USD: $0.00984\n",
      "Gas: 1367, USD: $0.012\n",
      "Gas: 1345, USD: $0.0118\n",
      "Gas: 1260, USD: $0.0111\n",
      "Gas: 1593, USD: $0.014\n",
      "Gas: 1329, USD: $0.0117\n"
     ]
    }
   ],
   "source": [
    "# Insert top to bottom, left to right.\n",
    "# Node IDs:       8  7  6  5  4  3  2  1\n",
    "insertion_keys = [3, 2, 5, 1, 4, 7, 6, 8]\n",
    "for i, key in enumerate(insertion_keys):\n",
    "    # Get node ID from allocation stack.\n",
    "    node_id = 8 - i\n",
    "    # Get access key.\n",
    "    access_key = get_access_key(node_id, node_id, key)\n",
    "    # Insert with diagnostics.\n",
    "    gas_diagnostics(\n",
    "        get_tx_json(\n",
    "            insert(key=key, bits=insertion_bits, access_key_expected=access_key)\n",
    "        )\n",
    "    )"
   ]
  },
  {
   "cell_type": "markdown",
   "id": "93281f1f",
   "metadata": {},
   "source": [
    "Remove nodes at tree node 4, leading to a left rotation.\n",
    "\n",
    "Pre-rotation:\n",
    "\n",
    ">         3\n",
    ">        / \\\n",
    ">       2   5\n",
    ">      /     \\\n",
    ">     1       7 \n",
    ">            / \\\n",
    ">           6   8 \n",
    "\n",
    "Post-rotation:\n",
    "\n",
    ">         3\n",
    ">        / \\\n",
    ">       2   7\n",
    ">      /   / \\\n",
    ">     1   5   8\n",
    ">          \\\n",
    ">           6 "
   ]
  },
  {
   "cell_type": "code",
   "execution_count": 46,
   "id": "6468ceec",
   "metadata": {},
   "outputs": [],
   "source": [
    "# List node with insertion key 4 has\n",
    "# node ID 4 for each node type.\n",
    "access_key = get_access_key(4, 4, 4)"
   ]
  },
  {
   "cell_type": "code",
   "execution_count": 47,
   "id": "c1ea59db",
   "metadata": {},
   "outputs": [
    {
     "name": "stdout",
     "output_type": "stream",
     "text": [
      "Gas: 1532, USD: $0.0135\n"
     ]
    }
   ],
   "source": [
    "# Remove nodes at tree node with insertion key 4.\n",
    "gas_diagnostics(\n",
    "    get_tx_json(remove(access_key=access_key, bits_expected=insertion_bits))\n",
    ")"
   ]
  },
  {
   "cell_type": "markdown",
   "id": "182fb0c8",
   "metadata": {},
   "source": [
    "Removing node 6 does not require a rotation:"
   ]
  },
  {
   "cell_type": "code",
   "execution_count": 48,
   "id": "d0f2772e",
   "metadata": {},
   "outputs": [],
   "source": [
    "# List node with insertion key 6 has\n",
    "# node ID 2 for each node type.\n",
    "access_key = get_access_key(2, 2, 6)"
   ]
  },
  {
   "cell_type": "code",
   "execution_count": 49,
   "id": "7c946d57",
   "metadata": {},
   "outputs": [
    {
     "name": "stdout",
     "output_type": "stream",
     "text": [
      "Gas: 1367, USD: $0.012\n"
     ]
    }
   ],
   "source": [
    "# Remove nodes at tree node 6.\n",
    "gas_diagnostics(\n",
    "    get_tx_json(remove(access_key=access_key, bits_expected=insertion_bits))\n",
    ")"
   ]
  },
  {
   "cell_type": "markdown",
   "id": "6ed8cfdf",
   "metadata": {},
   "source": [
    "Now insert a list node to the tail of tree node 5 and evict the tail at tree node 8.\n",
    "\n",
    "Pre-eviction:\n",
    "\n",
    ">         3\n",
    ">        / \\\n",
    ">       2   7\n",
    ">      /   / \\\n",
    ">     1   5   8\n",
    "\n",
    "Post-eviction:\n",
    "\n",
    ">         3\n",
    ">        / \\\n",
    ">       2   7\n",
    ">      /   /\n",
    ">     1   5"
   ]
  },
  {
   "cell_type": "markdown",
   "id": "14294610",
   "metadata": {},
   "source": [
    "Here, the tree node with insertion key 5 has tree node ID 6 per the insertion sequence, and the allocated list node will be the last one pushed onto the stack, having list node ID 2:"
   ]
  },
  {
   "cell_type": "code",
   "execution_count": 50,
   "id": "8aa70b3d",
   "metadata": {},
   "outputs": [],
   "source": [
    "access_key = get_access_key(6, 2, 5)"
   ]
  },
  {
   "cell_type": "markdown",
   "id": "d2ec5baa",
   "metadata": {},
   "source": [
    "The evictee in this case is the sole list node in the tree node having ID 8, for which both node IDs are 1 per the original insertion sequence:"
   ]
  },
  {
   "cell_type": "code",
   "execution_count": 51,
   "id": "f1a40ed0",
   "metadata": {},
   "outputs": [],
   "source": [
    "evictee_key = get_access_key(1, 1, 8)"
   ]
  },
  {
   "cell_type": "code",
   "execution_count": 52,
   "id": "224e8443",
   "metadata": {},
   "outputs": [
    {
     "name": "stdout",
     "output_type": "stream",
     "text": [
      "Gas: 2179, USD: $0.0192\n"
     ]
    }
   ],
   "source": [
    "gas_diagnostics(\n",
    "    get_tx_json(\n",
    "        insert_evict_tail(\n",
    "            key=5,\n",
    "            bits=insertion_bits,\n",
    "            access_key_expected=access_key,\n",
    "            evictee_access_key_expected=evictee_key,\n",
    "            evictee_value_bits_expected=insertion_bits,\n",
    "        )\n",
    "    )\n",
    ")"
   ]
  },
  {
   "cell_type": "markdown",
   "id": "633168c3",
   "metadata": {},
   "source": [
    "Now insert another element at the tail of the tree node having insertion key 5, leading it to have 3 list nodes:"
   ]
  },
  {
   "cell_type": "code",
   "execution_count": 53,
   "id": "aa258f0c",
   "metadata": {},
   "outputs": [
    {
     "name": "stdout",
     "output_type": "stream",
     "text": [
      "Gas: 1051, USD: $0.00925\n"
     ]
    }
   ],
   "source": [
    "# List node ID is from last evictee.\n",
    "access_key = get_access_key(6, 1, 5)\n",
    "gas_diagnostics(\n",
    "    get_tx_json(\n",
    "        insert(key=5, bits=insertion_bits, access_key_expected=access_key)\n",
    "    )\n",
    ")"
   ]
  },
  {
   "cell_type": "markdown",
   "id": "5ed4fd03",
   "metadata": {},
   "source": [
    "Remove from the middle of the corresponding doubly linked list:"
   ]
  },
  {
   "cell_type": "code",
   "execution_count": 54,
   "id": "12b4f8cd",
   "metadata": {},
   "outputs": [
    {
     "name": "stdout",
     "output_type": "stream",
     "text": [
      "Gas: 725, USD: $0.00638\n"
     ]
    }
   ],
   "source": [
    "# From insert with eviction.\n",
    "access_key = get_access_key(6, 2, 5)\n",
    "gas_diagnostics(\n",
    "    get_tx_json(remove(access_key=access_key, bits_expected=insertion_bits))\n",
    ")"
   ]
  },
  {
   "cell_type": "markdown",
   "id": "f2469232",
   "metadata": {},
   "source": [
    "# Loopwise operations"
   ]
  },
  {
   "cell_type": "markdown",
   "id": "77db8882",
   "metadata": {},
   "source": [
    "For each insertion key from 0 through 15, insert 3 key-value insertion pairs each:"
   ]
  },
  {
   "cell_type": "code",
   "execution_count": 55,
   "id": "cd9dbd08",
   "metadata": {},
   "outputs": [
    {
     "name": "stdout",
     "output_type": "stream",
     "text": [
      "Count: 47, gas used: 2135\n"
     ]
    }
   ],
   "source": [
    "# Fund from the faucet\n",
    "faucet.fund_account(account.address().hex(), 1000000000)\n",
    "# Reset, without allocating nodes\n",
    "gas_diagnostics(get_tx_json(reset()))\n",
    "n_insertions = 48\n",
    "gas = []\n",
    "for i in range(n_insertions):\n",
    "    # Get insertion key.\n",
    "    insertion_key = int(i / 3)\n",
    "    # Get access key.\n",
    "    access_key = get_access_key(insertion_key + 1, i + 1, insertion_key)\n",
    "    # Store tx JSON.\n",
    "    tx_json = get_tx_json(insert(insertion_key, insertion_bits, access_key))\n",
    "    # Assert successful tx.\n",
    "    assert tx_json[\"success\"] == True\n",
    "    # Get gas used.\n",
    "    gas_used = int(tx_json[\"gas_used\"])\n",
    "    # Log gas used.\n",
    "    gas.append({\"sequence_number\": i, \"gas_used\": gas_used})\n",
    "    # Print gas used.\n",
    "    print(f\"Count: {i}, gas used: {gas_used}\")\n",
    "    clear_output(wait=True)  # Clear terminal output."
   ]
  },
  {
   "cell_type": "markdown",
   "id": "a59ef523",
   "metadata": {},
   "source": [
    "Here, costs are higher for each tree node that has to be inserted:"
   ]
  },
  {
   "cell_type": "code",
   "execution_count": 56,
   "id": "e297ac1d",
   "metadata": {},
   "outputs": [
    {
     "data": {
      "image/png": "[encoded data removed]",
      "text/plain": [
       "<Figure size 432x288 with 1 Axes>"
      ]
     },
     "metadata": {
      "needs_background": "light"
     },
     "output_type": "display_data"
    }
   ],
   "source": [
    "df = pd.DataFrame(gas)\n",
    "ax = df.plot(x=\"sequence_number\", y=\"gas_used\", grid=True, style=\"-o\")\n",
    "ax.set_ylim(ymin=0);"
   ]
  },
  {
   "cell_type": "markdown",
   "id": "c0f5fe73",
   "metadata": {},
   "source": [
    "Now remove each key-value pair:"
   ]
  },
  {
   "cell_type": "code",
   "execution_count": 57,
   "id": "a3317362",
   "metadata": {},
   "outputs": [
    {
     "name": "stdout",
     "output_type": "stream",
     "text": [
      "Count: 47, gas used: 1088\n"
     ]
    }
   ],
   "source": [
    "# Fund from the faucet\n",
    "faucet.fund_account(account.address().hex(), 1000000000)\n",
    "gas2 = []\n",
    "for i in range(n_insertions):\n",
    "    # Get insertion key.\n",
    "    insertion_key = int(i / 3)\n",
    "    # Get access key.\n",
    "    access_key = get_access_key(insertion_key + 1, i + 1, insertion_key)\n",
    "    # Store tx JSON.\n",
    "    tx_json = get_tx_json(remove(access_key, insertion_bits))\n",
    "    # Assert successful tx.\n",
    "    assert tx_json[\"success\"] == True\n",
    "    # Get gas used.\n",
    "    gas_used = int(tx_json[\"gas_used\"])\n",
    "    # Log gas used.\n",
    "    gas2.append({\"sequence_number\": i, \"gas_used\": gas_used})\n",
    "    # Print gas used.\n",
    "    print(f\"Count: {i}, gas used: {gas_used}\")\n",
    "    clear_output(wait=True)  # Clear terminal output."
   ]
  },
  {
   "cell_type": "markdown",
   "id": "dbdefd51",
   "metadata": {},
   "source": [
    "Here, costs are higher for each tree node that has to be removed, but otherwise constant:"
   ]
  },
  {
   "cell_type": "code",
   "execution_count": 58,
   "id": "0e78a9ff",
   "metadata": {},
   "outputs": [
    {
     "data": {
      "image/png": "[encoded data removed]",
      "text/plain": [
       "<Figure size 432x288 with 1 Axes>"
      ]
     },
     "metadata": {
      "needs_background": "light"
     },
     "output_type": "display_data"
    }
   ],
   "source": [
    "df2 = pd.DataFrame(gas2)\n",
    "ax2 = df2.plot(x=\"sequence_number\", y=\"gas_used\", grid=True, style=\"-o\")\n",
    "ax2.set_ylim(ymin=0);"
   ]
  },
  {
   "cell_type": "markdown",
   "id": "c1ca9198",
   "metadata": {},
   "source": [
    "Insert again with allocated nodes:"
   ]
  },
  {
   "cell_type": "code",
   "execution_count": 62,
   "id": "fa3ce5e4",
   "metadata": {},
   "outputs": [
    {
     "name": "stdout",
     "output_type": "stream",
     "text": [
      "Count: 47, gas used: 1205\n"
     ]
    }
   ],
   "source": [
    "# Fund from the faucet.\n",
    "faucet.fund_account(account.address().hex(), 1000000000)\n",
    "# Get number of tree nodes.\n",
    "n_tree_nodes = int(n_insertions / 3)\n",
    "# Reset, allocating nodes.\n",
    "gas_diagnostics(get_tx_json(reset(n_tree_nodes, n_insertions)))\n",
    "gas3 = []\n",
    "for i in range(n_insertions):\n",
    "    # Get insertion key.\n",
    "    insertion_key = int(i / 3)\n",
    "    # Get tree node ID.\n",
    "    tree_node_id = n_tree_nodes - insertion_key\n",
    "    # Get access key.\n",
    "    access_key = get_access_key(tree_node_id, n_insertions - i, insertion_key)\n",
    "    # Store tx JSON.\n",
    "    tx_json = get_tx_json(insert(insertion_key, insertion_bits, access_key))\n",
    "    # Assert successful tx.\n",
    "    assert tx_json[\"success\"] == True\n",
    "    # Get gas used.\n",
    "    gas_used = int(tx_json[\"gas_used\"])\n",
    "    # Log gas used.\n",
    "    gas3.append({\"sequence_number\": i, \"gas_used\": gas_used})\n",
    "    # Print gas used.\n",
    "    print(f\"Count: {i}, gas used: {gas_used}\")\n",
    "    clear_output(wait=True)  # Clear terminal output."
   ]
  },
  {
   "cell_type": "markdown",
   "id": "3a3c2484",
   "metadata": {},
   "source": [
    "Here, costs are higher for each tree node that has to be inserted, but all costs are lower than for having to allocate a node each time:"
   ]
  },
  {
   "cell_type": "code",
   "execution_count": 66,
   "id": "b9256907",
   "metadata": {},
   "outputs": [
    {
     "data": {
      "image/png": "[encoded data removed]",
      "text/plain": [
       "<Figure size 432x288 with 1 Axes>"
      ]
     },
     "metadata": {
      "needs_background": "light"
     },
     "output_type": "display_data"
    }
   ],
   "source": [
    "df3 = pd.DataFrame(gas3)\n",
    "ax3 = df3.plot(x=\"sequence_number\", y=\"gas_used\", grid=True, style=\"-o\")\n",
    "ax3.set_ylim(ymin=0);"
   ]
  }
 ],
 "metadata": {
  "kernelspec": {
   "display_name": "Python 3 (ipykernel)",
   "language": "python",
   "name": "python3"
  },
  "language_info": {
   "codemirror_mode": {
    "name": "ipython",
    "version": 3
   },
   "file_extension": ".py",
   "mimetype": "text/x-python",
   "name": "python",
   "nbconvert_exporter": "python",
   "pygments_lexer": "ipython3",
   "version": "3.9.12"
  }
 },
 "nbformat": 4,
 "nbformat_minor": 5
}
